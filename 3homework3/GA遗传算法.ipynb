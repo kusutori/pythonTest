{
 "cells": [
  {
   "cell_type": "code",
   "execution_count": 17,
   "metadata": {},
   "outputs": [],
   "source": [
    "import numpy as np\n",
    "import pandas as pd\n",
    "import random\n",
    "import matplotlib.pyplot as plt\n",
    "plt.rcParams['font.sans-serif']=['SimHei'] #用来正常显示中文标签\n",
    "plt.rcParams['axes.unicode_minus']=False #用来正常显示负号"
   ]
  },
  {
   "attachments": {},
   "cell_type": "markdown",
   "metadata": {},
   "source": [
    "# 读数据"
   ]
  },
  {
   "cell_type": "code",
   "execution_count": 18,
   "metadata": {},
   "outputs": [],
   "source": [
    "citys_data = np.load('citys_data.npy')"
   ]
  },
  {
   "attachments": {},
   "cell_type": "markdown",
   "metadata": {},
   "source": [
    "# 城市数据可视化"
   ]
  },
  {
   "cell_type": "code",
   "execution_count": 19,
   "metadata": {},
   "outputs": [
    {
     "data": {
      "text/plain": [
       "[<matplotlib.lines.Line2D at 0x15e89633c10>]"
      ]
     },
     "execution_count": 19,
     "metadata": {},
     "output_type": "execute_result"
    },
    {
     "data": {
      "image/png": "[encoded data removed]",
      "text/plain": [
       "<Figure size 432x288 with 1 Axes>"
      ]
     },
     "metadata": {
      "needs_background": "light"
     },
     "output_type": "display_data"
    }
   ],
   "source": [
    "plt.plot(citys_data[:,0],citys_data[:,1],'o')"
   ]
  },
  {
   "attachments": {},
   "cell_type": "markdown",
   "metadata": {},
   "source": [
    "# 函数定义"
   ]
  },
  {
   "attachments": {},
   "cell_type": "markdown",
   "metadata": {},
   "source": [
    "## 生成基因池"
   ]
  },
  {
   "cell_type": "code",
   "execution_count": 20,
   "metadata": {},
   "outputs": [],
   "source": [
    "mm=5\n",
    "n=10\n",
    "def GenInit(mm,n):\n",
    "    Genpool = []\n",
    "    # 写一个循环，生成指定个数的基因\n",
    "    for m in range(mm):\n",
    "        # 基因池\n",
    "        # 起点是0，结束是0\n",
    "        # 1到n打乱顺序\n",
    "        list1 = [i for i in range(1,n)]\n",
    "        np.random.shuffle(list1)\n",
    "        gen = [0]+list1+[0]\n",
    "        Genpool.append(gen)\n",
    "    Genpool = np.array(Genpool)\n",
    "    return Genpool"
   ]
  },
  {
   "attachments": {},
   "cell_type": "markdown",
   "metadata": {},
   "source": [
    "## 整个路径的距离"
   ]
  },
  {
   "cell_type": "code",
   "execution_count": 24,
   "metadata": {},
   "outputs": [],
   "source": [
    "def distance(x,y):\n",
    "    return np.sqrt((x[0]-y[0])**2+(x[1]-y[1])**2)\n",
    "\n",
    "def RouteDis(gen):\n",
    "    AD = 0\n",
    "    # 对路径进行循环\n",
    "    for p in range(len(gen)-1):\n",
    "        p1,p2 = gen[p],gen[p+1]\n",
    "        AD += distance(citys_data[p1],citys_data[p2])\n",
    "    return AD\n"
   ]
  },
  {
   "attachments": {},
   "cell_type": "markdown",
   "metadata": {},
   "source": [
    "## 定义杂交函数"
   ]
  },
  {
   "cell_type": "code",
   "execution_count": 28,
   "metadata": {},
   "outputs": [],
   "source": [
    "# 种群交叉\n",
    "def GenExchang(gen1,gen2):\n",
    "    pointloc=np.random.randint(0, len(gen1))\n",
    "    new_gen1=np.concatenate((gen1[:pointloc],gen2[pointloc:]))\n",
    "    new_gen2 = np.concatenate((gen2[:pointloc], gen1[pointloc:]))\n",
    "    if np.random.random()<0.5:\n",
    "        return new_gen1\n",
    "    else:\n",
    "        return new_gen2"
   ]
  },
  {
   "attachments": {},
   "cell_type": "markdown",
   "metadata": {},
   "source": [
    "# GATSP主流程\n"
   ]
  },
  {
   "cell_type": "code",
   "execution_count": 27,
   "metadata": {},
   "outputs": [],
   "source": [
    "Maxiter = 10 # 迭代次数\n",
    "citys_num = 31\n",
    "GN = 30\n",
    "best_it_value = [] # 定义一个空间，存储每一代的最优路程\n",
    "bets_it_route = [] # 定义一个空间，存储每一代的最优路径"
   ]
  },
  {
   "cell_type": "code",
   "execution_count": 26,
   "metadata": {},
   "outputs": [
    {
     "name": "stdout",
     "output_type": "stream",
     "text": [
      "[45767.42169441 44194.44212685 44340.00793139 38546.6024735\n",
      " 46985.24588515 47138.1401832  45149.43803776 41152.0654376\n",
      " 44865.94927542 47165.26881719 46871.22813434 47353.81968782\n",
      " 42884.58593004 38181.56832898 39426.66984175 43046.55000554\n",
      " 45238.15098865 38844.14286055 41353.03248031 45458.85404206\n",
      " 36090.29811209 40547.66567481 44655.0199939  43539.55786245\n",
      " 41534.19305492 45507.50293525 45136.21499588 42630.08185133\n",
      " 41992.29941232 50030.6248816 ]\n",
      "[45767.42169441 44194.44212685 44340.00793139 38546.6024735\n",
      " 46985.24588515 47138.1401832  45149.43803776 41152.0654376\n",
      " 44865.94927542 47165.26881719 46871.22813434 47353.81968782\n",
      " 42884.58593004 38181.56832898 39426.66984175 43046.55000554\n",
      " 45238.15098865 38844.14286055 41353.03248031 45458.85404206\n",
      " 36090.29811209 40547.66567481 44655.0199939  43539.55786245\n",
      " 41534.19305492 45507.50293525 45136.21499588 42630.08185133\n",
      " 41992.29941232 50030.6248816 ]\n",
      "[45767.42169441 44194.44212685 44340.00793139 38546.6024735\n",
      " 46985.24588515 47138.1401832  45149.43803776 41152.0654376\n",
      " 44865.94927542 47165.26881719 46871.22813434 47353.81968782\n",
      " 42884.58593004 38181.56832898 39426.66984175 43046.55000554\n",
      " 45238.15098865 38844.14286055 41353.03248031 45458.85404206\n",
      " 36090.29811209 40547.66567481 44655.0199939  43539.55786245\n",
      " 41534.19305492 45507.50293525 45136.21499588 42630.08185133\n",
      " 41992.29941232 50030.6248816 ]\n",
      "[45767.42169441 44194.44212685 44340.00793139 38546.6024735\n",
      " 46985.24588515 47138.1401832  45149.43803776 41152.0654376\n",
      " 44865.94927542 47165.26881719 46871.22813434 47353.81968782\n",
      " 42884.58593004 38181.56832898 39426.66984175 43046.55000554\n",
      " 45238.15098865 38844.14286055 41353.03248031 45458.85404206\n",
      " 36090.29811209 40547.66567481 44655.0199939  43539.55786245\n",
      " 41534.19305492 45507.50293525 45136.21499588 42630.08185133\n",
      " 41992.29941232 50030.6248816 ]\n",
      "[45767.42169441 44194.44212685 44340.00793139 38546.6024735\n",
      " 46985.24588515 47138.1401832  45149.43803776 41152.0654376\n",
      " 44865.94927542 47165.26881719 46871.22813434 47353.81968782\n",
      " 42884.58593004 38181.56832898 39426.66984175 43046.55000554\n",
      " 45238.15098865 38844.14286055 41353.03248031 45458.85404206\n",
      " 36090.29811209 40547.66567481 44655.0199939  43539.55786245\n",
      " 41534.19305492 45507.50293525 45136.21499588 42630.08185133\n",
      " 41992.29941232 50030.6248816 ]\n",
      "[45767.42169441 44194.44212685 44340.00793139 38546.6024735\n",
      " 46985.24588515 47138.1401832  45149.43803776 41152.0654376\n",
      " 44865.94927542 47165.26881719 46871.22813434 47353.81968782\n",
      " 42884.58593004 38181.56832898 39426.66984175 43046.55000554\n",
      " 45238.15098865 38844.14286055 41353.03248031 45458.85404206\n",
      " 36090.29811209 40547.66567481 44655.0199939  43539.55786245\n",
      " 41534.19305492 45507.50293525 45136.21499588 42630.08185133\n",
      " 41992.29941232 50030.6248816 ]\n",
      "[45767.42169441 44194.44212685 44340.00793139 38546.6024735\n",
      " 46985.24588515 47138.1401832  45149.43803776 41152.0654376\n",
      " 44865.94927542 47165.26881719 46871.22813434 47353.81968782\n",
      " 42884.58593004 38181.56832898 39426.66984175 43046.55000554\n",
      " 45238.15098865 38844.14286055 41353.03248031 45458.85404206\n",
      " 36090.29811209 40547.66567481 44655.0199939  43539.55786245\n",
      " 41534.19305492 45507.50293525 45136.21499588 42630.08185133\n",
      " 41992.29941232 50030.6248816 ]\n",
      "[45767.42169441 44194.44212685 44340.00793139 38546.6024735\n",
      " 46985.24588515 47138.1401832  45149.43803776 41152.0654376\n",
      " 44865.94927542 47165.26881719 46871.22813434 47353.81968782\n",
      " 42884.58593004 38181.56832898 39426.66984175 43046.55000554\n",
      " 45238.15098865 38844.14286055 41353.03248031 45458.85404206\n",
      " 36090.29811209 40547.66567481 44655.0199939  43539.55786245\n",
      " 41534.19305492 45507.50293525 45136.21499588 42630.08185133\n",
      " 41992.29941232 50030.6248816 ]\n",
      "[45767.42169441 44194.44212685 44340.00793139 38546.6024735\n",
      " 46985.24588515 47138.1401832  45149.43803776 41152.0654376\n",
      " 44865.94927542 47165.26881719 46871.22813434 47353.81968782\n",
      " 42884.58593004 38181.56832898 39426.66984175 43046.55000554\n",
      " 45238.15098865 38844.14286055 41353.03248031 45458.85404206\n",
      " 36090.29811209 40547.66567481 44655.0199939  43539.55786245\n",
      " 41534.19305492 45507.50293525 45136.21499588 42630.08185133\n",
      " 41992.29941232 50030.6248816 ]\n",
      "[45767.42169441 44194.44212685 44340.00793139 38546.6024735\n",
      " 46985.24588515 47138.1401832  45149.43803776 41152.0654376\n",
      " 44865.94927542 47165.26881719 46871.22813434 47353.81968782\n",
      " 42884.58593004 38181.56832898 39426.66984175 43046.55000554\n",
      " 45238.15098865 38844.14286055 41353.03248031 45458.85404206\n",
      " 36090.29811209 40547.66567481 44655.0199939  43539.55786245\n",
      " 41534.19305492 45507.50293525 45136.21499588 42630.08185133\n",
      " 41992.29941232 50030.6248816 ]\n"
     ]
    }
   ],
   "source": [
    "Genpool = GenInit(GN,citys_num) # 基因池\n",
    "for i in range(Maxiter):\n",
    "    # 对种群选择\n",
    "    GenDis = np.zeros(GN)\n",
    "    for g,gen in enumerate(Genpool):\n",
    "        GenDis[g] = RouteDis(gen)\n",
    "    # 寻找一个优秀的基因\n",
    "    best_index = np.argmin(GenDis)\n",
    "    # 记录当代最优路程值\n",
    "    best_it_value =GenDis[best_index]\n",
    "    # 记录当代最优路径\n",
    "    best_it_route = Genpool[best_index]\n",
    "\n",
    "    # 最好的基因和所有基因进行交叉\n",
    "    for g,gen in enumerate(Genpool):\n",
    "        Gc = GenCross(Genpool[best_index],gen)\n",
    "        \n",
    "    # 交叉\n",
    "    # 变异\n",
    "    pass"
   ]
  },
  {
   "cell_type": "code",
   "execution_count": null,
   "metadata": {},
   "outputs": [],
   "source": [
    "test1 =[0,1,2,3,4,5,6,7,8,9,0]\n",
    "gen=test1\n",
    "# "
   ]
  }
 ],
 "metadata": {
  "kernelspec": {
   "display_name": "base",
   "language": "python",
   "name": "python3"
  },
  "language_info": {
   "codemirror_mode": {
    "name": "ipython",
    "version": 3
   },
   "file_extension": ".py",
   "mimetype": "text/x-python",
   "name": "python",
   "nbconvert_exporter": "python",
   "pygments_lexer": "ipython3",
   "version": "3.9.12"
  },
  "orig_nbformat": 4,
  "vscode": {
   "interpreter": {
    "hash": "3bf3a4c08d772500fe80480d234fda284fcda7cd846a744588210699020a3931"
   }
  }
 },
 "nbformat": 4,
 "nbformat_minor": 2
}
