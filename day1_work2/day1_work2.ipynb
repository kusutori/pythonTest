{
 "cells": [
  {
   "cell_type": "code",
   "execution_count": 1,
   "metadata": {},
   "outputs": [],
   "source": [
    "import numpy as np\n",
    "import pandas as pd"
   ]
  },
  {
   "cell_type": "markdown",
   "metadata": {},
   "source": [
    "## 1、创建寝室同学的姓名，性别，年龄，家乡信息的多维数组，分别通过隐式索引和显示索引的方式访问自己的信息。 "
   ]
  },
  {
   "cell_type": "code",
   "execution_count": 2,
   "metadata": {},
   "outputs": [],
   "source": [
    "# 1、创建寝室同学的姓名，性别，年龄，家乡信息的多维数组，分别通过隐式索引和显示索引的方式访问自己的信息。\n",
    "data1 = {\"sex\": [\"男\", \"男\", \"男\", \"男\"],\n",
    "         \"age\": [19, 19, 19, 19],\n",
    "         \"hometown\": [\"湖北襄阳\", \"湖北襄阳\", \"湖北随州\", \"贵州遵义\"]}\n",
    "         \n",
    "name=[\"左蓉臻\", \"严俊睿\", \"郑扬\", \"钱磊\"]"
   ]
  },
  {
   "cell_type": "code",
   "execution_count": 3,
   "metadata": {},
   "outputs": [
    {
     "data": {
      "text/plain": "    sex  age hometown\n左蓉臻   男   19     湖北襄阳\n严俊睿   男   19     湖北襄阳\n郑扬    男   19     湖北随州\n钱磊    男   19     贵州遵义",
      "text/html": "<div>\n<style scoped>\n    .dataframe tbody tr th:only-of-type {\n        vertical-align: middle;\n    }\n\n    .dataframe tbody tr th {\n        vertical-align: top;\n    }\n\n    .dataframe thead th {\n        text-align: right;\n    }\n</style>\n<table border=\"1\" class=\"dataframe\">\n  <thead>\n    <tr style=\"text-align: right;\">\n      <th></th>\n      <th>sex</th>\n      <th>age</th>\n      <th>hometown</th>\n    </tr>\n  </thead>\n  <tbody>\n    <tr>\n      <th>左蓉臻</th>\n      <td>男</td>\n      <td>19</td>\n      <td>湖北襄阳</td>\n    </tr>\n    <tr>\n      <th>严俊睿</th>\n      <td>男</td>\n      <td>19</td>\n      <td>湖北襄阳</td>\n    </tr>\n    <tr>\n      <th>郑扬</th>\n      <td>男</td>\n      <td>19</td>\n      <td>湖北随州</td>\n    </tr>\n    <tr>\n      <th>钱磊</th>\n      <td>男</td>\n      <td>19</td>\n      <td>贵州遵义</td>\n    </tr>\n  </tbody>\n</table>\n</div>"
     },
     "execution_count": 3,
     "metadata": {},
     "output_type": "execute_result"
    }
   ],
   "source": [
    "information1=pd.DataFrame(data=data1,index=name)\n",
    "information1"
   ]
  },
  {
   "cell_type": "code",
   "execution_count": 4,
   "metadata": {},
   "outputs": [
    {
     "data": {
      "text/plain": "sex            男\nage           19\nhometown    湖北襄阳\nName: 严俊睿, dtype: object"
     },
     "execution_count": 4,
     "metadata": {},
     "output_type": "execute_result"
    }
   ],
   "source": [
    "information1.loc[name[1]]"
   ]
  },
  {
   "cell_type": "code",
   "execution_count": 5,
   "metadata": {},
   "outputs": [
    {
     "data": {
      "text/plain": "sex            男\nage           19\nhometown    湖北襄阳\nName: 严俊睿, dtype: object"
     },
     "execution_count": 5,
     "metadata": {},
     "output_type": "execute_result"
    }
   ],
   "source": [
    "information1.iloc[1]"
   ]
  },
  {
   "cell_type": "code",
   "execution_count": 21,
   "metadata": {},
   "outputs": [
    {
     "data": {
      "text/plain": "    Account                          Name            Rep        Manager  \\\n0    714466               Trantow-Barrows   Craig Booker   Debra Henley   \n1    714466               Trantow-Barrows   Craig Booker   Debra Henley   \n2    714466               Trantow-Barrows   Craig Booker   Debra Henley   \n3    737550  Fritsch, Russel and Anderson   Craig Booker   Debra Henley   \n4    146832                  Kiehn-Spinka  Daniel Hilton   Debra Henley   \n5    218895                     Kulas Inc  Daniel Hilton   Debra Henley   \n6    218895                     Kulas Inc  Daniel Hilton   Debra Henley   \n7    412290                 Jerde-Hilpert     John Smith   Debra Henley   \n8    740150                    Barton LLC     John Smith   Debra Henley   \n9    141962                    Herman LLC    Cedric Moss  Fred Anderson   \n10   163416                   Purdy-Kunde    Cedric Moss  Fred Anderson   \n11   239344                    Stokes LLC    Cedric Moss  Fred Anderson   \n12   239344                    Stokes LLC    Cedric Moss  Fred Anderson   \n13   307599   Kassulke, Ondricka and Metz     Wendy Yule  Fred Anderson   \n14   688981                   Keeling LLC     Wendy Yule  Fred Anderson   \n15   729833                     Koepp Ltd     Wendy Yule  Fred Anderson   \n16   729833                     Koepp Ltd     Wendy Yule  Fred Anderson   \n\n        Product  Quantity   Price     Status  \n0           CPU         1   30000  presented  \n1      Software         1   10000  presented  \n2   Maintenance         2    5000    pending  \n3           CPU         1   35000   declined  \n4           CPU         2   65000        won  \n5           CPU         2   40000    pending  \n6      Software         1   10000  presented  \n7   Maintenance         2    5000    pending  \n8           CPU         1   35000   declined  \n9           CPU         2   65000        won  \n10          CPU         1   30000  presented  \n11  Maintenance         1    5000    pending  \n12     Software         1   10000  presented  \n13  Maintenance         3    7000        won  \n14          CPU         5  100000        won  \n15          CPU         2   65000   declined  \n16      Monitor         2    5000  presented  ",
      "text/html": "<div>\n<style scoped>\n    .dataframe tbody tr th:only-of-type {\n        vertical-align: middle;\n    }\n\n    .dataframe tbody tr th {\n        vertical-align: top;\n    }\n\n    .dataframe thead th {\n        text-align: right;\n    }\n</style>\n<table border=\"1\" class=\"dataframe\">\n  <thead>\n    <tr style=\"text-align: right;\">\n      <th></th>\n      <th>Account</th>\n      <th>Name</th>\n      <th>Rep</th>\n      <th>Manager</th>\n      <th>Product</th>\n      <th>Quantity</th>\n      <th>Price</th>\n      <th>Status</th>\n    </tr>\n  </thead>\n  <tbody>\n    <tr>\n      <th>0</th>\n      <td>714466</td>\n      <td>Trantow-Barrows</td>\n      <td>Craig Booker</td>\n      <td>Debra Henley</td>\n      <td>CPU</td>\n      <td>1</td>\n      <td>30000</td>\n      <td>presented</td>\n    </tr>\n    <tr>\n      <th>1</th>\n      <td>714466</td>\n      <td>Trantow-Barrows</td>\n      <td>Craig Booker</td>\n      <td>Debra Henley</td>\n      <td>Software</td>\n      <td>1</td>\n      <td>10000</td>\n      <td>presented</td>\n    </tr>\n    <tr>\n      <th>2</th>\n      <td>714466</td>\n      <td>Trantow-Barrows</td>\n      <td>Craig Booker</td>\n      <td>Debra Henley</td>\n      <td>Maintenance</td>\n      <td>2</td>\n      <td>5000</td>\n      <td>pending</td>\n    </tr>\n    <tr>\n      <th>3</th>\n      <td>737550</td>\n      <td>Fritsch, Russel and Anderson</td>\n      <td>Craig Booker</td>\n      <td>Debra Henley</td>\n      <td>CPU</td>\n      <td>1</td>\n      <td>35000</td>\n      <td>declined</td>\n    </tr>\n    <tr>\n      <th>4</th>\n      <td>146832</td>\n      <td>Kiehn-Spinka</td>\n      <td>Daniel Hilton</td>\n      <td>Debra Henley</td>\n      <td>CPU</td>\n      <td>2</td>\n      <td>65000</td>\n      <td>won</td>\n    </tr>\n    <tr>\n      <th>5</th>\n      <td>218895</td>\n      <td>Kulas Inc</td>\n      <td>Daniel Hilton</td>\n      <td>Debra Henley</td>\n      <td>CPU</td>\n      <td>2</td>\n      <td>40000</td>\n      <td>pending</td>\n    </tr>\n    <tr>\n      <th>6</th>\n      <td>218895</td>\n      <td>Kulas Inc</td>\n      <td>Daniel Hilton</td>\n      <td>Debra Henley</td>\n      <td>Software</td>\n      <td>1</td>\n      <td>10000</td>\n      <td>presented</td>\n    </tr>\n    <tr>\n      <th>7</th>\n      <td>412290</td>\n      <td>Jerde-Hilpert</td>\n      <td>John Smith</td>\n      <td>Debra Henley</td>\n      <td>Maintenance</td>\n      <td>2</td>\n      <td>5000</td>\n      <td>pending</td>\n    </tr>\n    <tr>\n      <th>8</th>\n      <td>740150</td>\n      <td>Barton LLC</td>\n      <td>John Smith</td>\n      <td>Debra Henley</td>\n      <td>CPU</td>\n      <td>1</td>\n      <td>35000</td>\n      <td>declined</td>\n    </tr>\n    <tr>\n      <th>9</th>\n      <td>141962</td>\n      <td>Herman LLC</td>\n      <td>Cedric Moss</td>\n      <td>Fred Anderson</td>\n      <td>CPU</td>\n      <td>2</td>\n      <td>65000</td>\n      <td>won</td>\n    </tr>\n    <tr>\n      <th>10</th>\n      <td>163416</td>\n      <td>Purdy-Kunde</td>\n      <td>Cedric Moss</td>\n      <td>Fred Anderson</td>\n      <td>CPU</td>\n      <td>1</td>\n      <td>30000</td>\n      <td>presented</td>\n    </tr>\n    <tr>\n      <th>11</th>\n      <td>239344</td>\n      <td>Stokes LLC</td>\n      <td>Cedric Moss</td>\n      <td>Fred Anderson</td>\n      <td>Maintenance</td>\n      <td>1</td>\n      <td>5000</td>\n      <td>pending</td>\n    </tr>\n    <tr>\n      <th>12</th>\n      <td>239344</td>\n      <td>Stokes LLC</td>\n      <td>Cedric Moss</td>\n      <td>Fred Anderson</td>\n      <td>Software</td>\n      <td>1</td>\n      <td>10000</td>\n      <td>presented</td>\n    </tr>\n    <tr>\n      <th>13</th>\n      <td>307599</td>\n      <td>Kassulke, Ondricka and Metz</td>\n      <td>Wendy Yule</td>\n      <td>Fred Anderson</td>\n      <td>Maintenance</td>\n      <td>3</td>\n      <td>7000</td>\n      <td>won</td>\n    </tr>\n    <tr>\n      <th>14</th>\n      <td>688981</td>\n      <td>Keeling LLC</td>\n      <td>Wendy Yule</td>\n      <td>Fred Anderson</td>\n      <td>CPU</td>\n      <td>5</td>\n      <td>100000</td>\n      <td>won</td>\n    </tr>\n    <tr>\n      <th>15</th>\n      <td>729833</td>\n      <td>Koepp Ltd</td>\n      <td>Wendy Yule</td>\n      <td>Fred Anderson</td>\n      <td>CPU</td>\n      <td>2</td>\n      <td>65000</td>\n      <td>declined</td>\n    </tr>\n    <tr>\n      <th>16</th>\n      <td>729833</td>\n      <td>Koepp Ltd</td>\n      <td>Wendy Yule</td>\n      <td>Fred Anderson</td>\n      <td>Monitor</td>\n      <td>2</td>\n      <td>5000</td>\n      <td>presented</td>\n    </tr>\n  </tbody>\n</table>\n</div>"
     },
     "execution_count": 21,
     "metadata": {},
     "output_type": "execute_result"
    }
   ],
   "source": [
    "# 2、读取sales-funnel表，将Rep和Manager均设置为索引，搜索价格（Price)最高的产品, 数量（Quantity)最低的产品，以及在这二者分类下Account的平均数和极差。\n",
    "# excel1=pd.read_excel(\"sales-funnel.xlsx\")\n",
    "# excel1\n",
    "excel1=pd.read_excel(\"sales-funnel.xlsx\")\n",
    "excel1"
   ]
  },
  {
   "cell_type": "code",
   "execution_count": 7,
   "metadata": {},
   "outputs": [
    {
     "data": {
      "text/plain": "                             Account                          Name  \\\nRep           Manager                                                \nCraig Booker  Debra Henley    714466               Trantow-Barrows   \n              Debra Henley    714466               Trantow-Barrows   \n              Debra Henley    714466               Trantow-Barrows   \n              Debra Henley    737550  Fritsch, Russel and Anderson   \nDaniel Hilton Debra Henley    146832                  Kiehn-Spinka   \n              Debra Henley    218895                     Kulas Inc   \n              Debra Henley    218895                     Kulas Inc   \nJohn Smith    Debra Henley    412290                 Jerde-Hilpert   \n              Debra Henley    740150                    Barton LLC   \nCedric Moss   Fred Anderson   141962                    Herman LLC   \n              Fred Anderson   163416                   Purdy-Kunde   \n              Fred Anderson   239344                    Stokes LLC   \n              Fred Anderson   239344                    Stokes LLC   \nWendy Yule    Fred Anderson   307599   Kassulke, Ondricka and Metz   \n              Fred Anderson   688981                   Keeling LLC   \n              Fred Anderson   729833                     Koepp Ltd   \n              Fred Anderson   729833                     Koepp Ltd   \n\n                                 Product  Quantity   Price     Status  \nRep           Manager                                                  \nCraig Booker  Debra Henley           CPU         1   30000  presented  \n              Debra Henley      Software         1   10000  presented  \n              Debra Henley   Maintenance         2    5000    pending  \n              Debra Henley           CPU         1   35000   declined  \nDaniel Hilton Debra Henley           CPU         2   65000        won  \n              Debra Henley           CPU         2   40000    pending  \n              Debra Henley      Software         1   10000  presented  \nJohn Smith    Debra Henley   Maintenance         2    5000    pending  \n              Debra Henley           CPU         1   35000   declined  \nCedric Moss   Fred Anderson          CPU         2   65000        won  \n              Fred Anderson          CPU         1   30000  presented  \n              Fred Anderson  Maintenance         1    5000    pending  \n              Fred Anderson     Software         1   10000  presented  \nWendy Yule    Fred Anderson  Maintenance         3    7000        won  \n              Fred Anderson          CPU         5  100000        won  \n              Fred Anderson          CPU         2   65000   declined  \n              Fred Anderson      Monitor         2    5000  presented  ",
      "text/html": "<div>\n<style scoped>\n    .dataframe tbody tr th:only-of-type {\n        vertical-align: middle;\n    }\n\n    .dataframe tbody tr th {\n        vertical-align: top;\n    }\n\n    .dataframe thead th {\n        text-align: right;\n    }\n</style>\n<table border=\"1\" class=\"dataframe\">\n  <thead>\n    <tr style=\"text-align: right;\">\n      <th></th>\n      <th></th>\n      <th>Account</th>\n      <th>Name</th>\n      <th>Product</th>\n      <th>Quantity</th>\n      <th>Price</th>\n      <th>Status</th>\n    </tr>\n    <tr>\n      <th>Rep</th>\n      <th>Manager</th>\n      <th></th>\n      <th></th>\n      <th></th>\n      <th></th>\n      <th></th>\n      <th></th>\n    </tr>\n  </thead>\n  <tbody>\n    <tr>\n      <th rowspan=\"4\" valign=\"top\">Craig Booker</th>\n      <th>Debra Henley</th>\n      <td>714466</td>\n      <td>Trantow-Barrows</td>\n      <td>CPU</td>\n      <td>1</td>\n      <td>30000</td>\n      <td>presented</td>\n    </tr>\n    <tr>\n      <th>Debra Henley</th>\n      <td>714466</td>\n      <td>Trantow-Barrows</td>\n      <td>Software</td>\n      <td>1</td>\n      <td>10000</td>\n      <td>presented</td>\n    </tr>\n    <tr>\n      <th>Debra Henley</th>\n      <td>714466</td>\n      <td>Trantow-Barrows</td>\n      <td>Maintenance</td>\n      <td>2</td>\n      <td>5000</td>\n      <td>pending</td>\n    </tr>\n    <tr>\n      <th>Debra Henley</th>\n      <td>737550</td>\n      <td>Fritsch, Russel and Anderson</td>\n      <td>CPU</td>\n      <td>1</td>\n      <td>35000</td>\n      <td>declined</td>\n    </tr>\n    <tr>\n      <th rowspan=\"3\" valign=\"top\">Daniel Hilton</th>\n      <th>Debra Henley</th>\n      <td>146832</td>\n      <td>Kiehn-Spinka</td>\n      <td>CPU</td>\n      <td>2</td>\n      <td>65000</td>\n      <td>won</td>\n    </tr>\n    <tr>\n      <th>Debra Henley</th>\n      <td>218895</td>\n      <td>Kulas Inc</td>\n      <td>CPU</td>\n      <td>2</td>\n      <td>40000</td>\n      <td>pending</td>\n    </tr>\n    <tr>\n      <th>Debra Henley</th>\n      <td>218895</td>\n      <td>Kulas Inc</td>\n      <td>Software</td>\n      <td>1</td>\n      <td>10000</td>\n      <td>presented</td>\n    </tr>\n    <tr>\n      <th rowspan=\"2\" valign=\"top\">John Smith</th>\n      <th>Debra Henley</th>\n      <td>412290</td>\n      <td>Jerde-Hilpert</td>\n      <td>Maintenance</td>\n      <td>2</td>\n      <td>5000</td>\n      <td>pending</td>\n    </tr>\n    <tr>\n      <th>Debra Henley</th>\n      <td>740150</td>\n      <td>Barton LLC</td>\n      <td>CPU</td>\n      <td>1</td>\n      <td>35000</td>\n      <td>declined</td>\n    </tr>\n    <tr>\n      <th rowspan=\"4\" valign=\"top\">Cedric Moss</th>\n      <th>Fred Anderson</th>\n      <td>141962</td>\n      <td>Herman LLC</td>\n      <td>CPU</td>\n      <td>2</td>\n      <td>65000</td>\n      <td>won</td>\n    </tr>\n    <tr>\n      <th>Fred Anderson</th>\n      <td>163416</td>\n      <td>Purdy-Kunde</td>\n      <td>CPU</td>\n      <td>1</td>\n      <td>30000</td>\n      <td>presented</td>\n    </tr>\n    <tr>\n      <th>Fred Anderson</th>\n      <td>239344</td>\n      <td>Stokes LLC</td>\n      <td>Maintenance</td>\n      <td>1</td>\n      <td>5000</td>\n      <td>pending</td>\n    </tr>\n    <tr>\n      <th>Fred Anderson</th>\n      <td>239344</td>\n      <td>Stokes LLC</td>\n      <td>Software</td>\n      <td>1</td>\n      <td>10000</td>\n      <td>presented</td>\n    </tr>\n    <tr>\n      <th rowspan=\"4\" valign=\"top\">Wendy Yule</th>\n      <th>Fred Anderson</th>\n      <td>307599</td>\n      <td>Kassulke, Ondricka and Metz</td>\n      <td>Maintenance</td>\n      <td>3</td>\n      <td>7000</td>\n      <td>won</td>\n    </tr>\n    <tr>\n      <th>Fred Anderson</th>\n      <td>688981</td>\n      <td>Keeling LLC</td>\n      <td>CPU</td>\n      <td>5</td>\n      <td>100000</td>\n      <td>won</td>\n    </tr>\n    <tr>\n      <th>Fred Anderson</th>\n      <td>729833</td>\n      <td>Koepp Ltd</td>\n      <td>CPU</td>\n      <td>2</td>\n      <td>65000</td>\n      <td>declined</td>\n    </tr>\n    <tr>\n      <th>Fred Anderson</th>\n      <td>729833</td>\n      <td>Koepp Ltd</td>\n      <td>Monitor</td>\n      <td>2</td>\n      <td>5000</td>\n      <td>presented</td>\n    </tr>\n  </tbody>\n</table>\n</div>"
     },
     "execution_count": 7,
     "metadata": {},
     "output_type": "execute_result"
    }
   ],
   "source": [
    "excel2=excel1.set_index([\"Rep\",\"Manager\"])\n",
    "excel2"
   ]
  },
  {
   "cell_type": "code",
   "execution_count": 8,
   "metadata": {},
   "outputs": [
    {
     "data": {
      "text/plain": "    Account         Name         Rep        Manager Product  Quantity   Price  \\\n14   688981  Keeling LLC  Wendy Yule  Fred Anderson     CPU         5  100000   \n\n   Status  \n14    won  ",
      "text/html": "<div>\n<style scoped>\n    .dataframe tbody tr th:only-of-type {\n        vertical-align: middle;\n    }\n\n    .dataframe tbody tr th {\n        vertical-align: top;\n    }\n\n    .dataframe thead th {\n        text-align: right;\n    }\n</style>\n<table border=\"1\" class=\"dataframe\">\n  <thead>\n    <tr style=\"text-align: right;\">\n      <th></th>\n      <th>Account</th>\n      <th>Name</th>\n      <th>Rep</th>\n      <th>Manager</th>\n      <th>Product</th>\n      <th>Quantity</th>\n      <th>Price</th>\n      <th>Status</th>\n    </tr>\n  </thead>\n  <tbody>\n    <tr>\n      <th>14</th>\n      <td>688981</td>\n      <td>Keeling LLC</td>\n      <td>Wendy Yule</td>\n      <td>Fred Anderson</td>\n      <td>CPU</td>\n      <td>5</td>\n      <td>100000</td>\n      <td>won</td>\n    </tr>\n  </tbody>\n</table>\n</div>"
     },
     "execution_count": 8,
     "metadata": {},
     "output_type": "execute_result"
    }
   ],
   "source": [
    "priceMax=excel1.loc[excel1[\"Price\"]==excel1[\"Price\"].max()]\n",
    "priceMax"
   ]
  },
  {
   "cell_type": "code",
   "execution_count": 9,
   "metadata": {},
   "outputs": [
    {
     "data": {
      "text/plain": "    Account                          Name            Rep        Manager  \\\n0    714466               Trantow-Barrows   Craig Booker   Debra Henley   \n1    714466               Trantow-Barrows   Craig Booker   Debra Henley   \n3    737550  Fritsch, Russel and Anderson   Craig Booker   Debra Henley   \n6    218895                     Kulas Inc  Daniel Hilton   Debra Henley   \n8    740150                    Barton LLC     John Smith   Debra Henley   \n10   163416                   Purdy-Kunde    Cedric Moss  Fred Anderson   \n11   239344                    Stokes LLC    Cedric Moss  Fred Anderson   \n12   239344                    Stokes LLC    Cedric Moss  Fred Anderson   \n\n        Product  Quantity  Price     Status  \n0           CPU         1  30000  presented  \n1      Software         1  10000  presented  \n3           CPU         1  35000   declined  \n6      Software         1  10000  presented  \n8           CPU         1  35000   declined  \n10          CPU         1  30000  presented  \n11  Maintenance         1   5000    pending  \n12     Software         1  10000  presented  ",
      "text/html": "<div>\n<style scoped>\n    .dataframe tbody tr th:only-of-type {\n        vertical-align: middle;\n    }\n\n    .dataframe tbody tr th {\n        vertical-align: top;\n    }\n\n    .dataframe thead th {\n        text-align: right;\n    }\n</style>\n<table border=\"1\" class=\"dataframe\">\n  <thead>\n    <tr style=\"text-align: right;\">\n      <th></th>\n      <th>Account</th>\n      <th>Name</th>\n      <th>Rep</th>\n      <th>Manager</th>\n      <th>Product</th>\n      <th>Quantity</th>\n      <th>Price</th>\n      <th>Status</th>\n    </tr>\n  </thead>\n  <tbody>\n    <tr>\n      <th>0</th>\n      <td>714466</td>\n      <td>Trantow-Barrows</td>\n      <td>Craig Booker</td>\n      <td>Debra Henley</td>\n      <td>CPU</td>\n      <td>1</td>\n      <td>30000</td>\n      <td>presented</td>\n    </tr>\n    <tr>\n      <th>1</th>\n      <td>714466</td>\n      <td>Trantow-Barrows</td>\n      <td>Craig Booker</td>\n      <td>Debra Henley</td>\n      <td>Software</td>\n      <td>1</td>\n      <td>10000</td>\n      <td>presented</td>\n    </tr>\n    <tr>\n      <th>3</th>\n      <td>737550</td>\n      <td>Fritsch, Russel and Anderson</td>\n      <td>Craig Booker</td>\n      <td>Debra Henley</td>\n      <td>CPU</td>\n      <td>1</td>\n      <td>35000</td>\n      <td>declined</td>\n    </tr>\n    <tr>\n      <th>6</th>\n      <td>218895</td>\n      <td>Kulas Inc</td>\n      <td>Daniel Hilton</td>\n      <td>Debra Henley</td>\n      <td>Software</td>\n      <td>1</td>\n      <td>10000</td>\n      <td>presented</td>\n    </tr>\n    <tr>\n      <th>8</th>\n      <td>740150</td>\n      <td>Barton LLC</td>\n      <td>John Smith</td>\n      <td>Debra Henley</td>\n      <td>CPU</td>\n      <td>1</td>\n      <td>35000</td>\n      <td>declined</td>\n    </tr>\n    <tr>\n      <th>10</th>\n      <td>163416</td>\n      <td>Purdy-Kunde</td>\n      <td>Cedric Moss</td>\n      <td>Fred Anderson</td>\n      <td>CPU</td>\n      <td>1</td>\n      <td>30000</td>\n      <td>presented</td>\n    </tr>\n    <tr>\n      <th>11</th>\n      <td>239344</td>\n      <td>Stokes LLC</td>\n      <td>Cedric Moss</td>\n      <td>Fred Anderson</td>\n      <td>Maintenance</td>\n      <td>1</td>\n      <td>5000</td>\n      <td>pending</td>\n    </tr>\n    <tr>\n      <th>12</th>\n      <td>239344</td>\n      <td>Stokes LLC</td>\n      <td>Cedric Moss</td>\n      <td>Fred Anderson</td>\n      <td>Software</td>\n      <td>1</td>\n      <td>10000</td>\n      <td>presented</td>\n    </tr>\n  </tbody>\n</table>\n</div>"
     },
     "execution_count": 9,
     "metadata": {},
     "output_type": "execute_result"
    }
   ],
   "source": [
    "quantityMin=excel1.loc[excel1[\"Quantity\"]==excel1[\"Quantity\"].min()]\n",
    "quantityMin"
   ]
  },
  {
   "cell_type": "code",
   "execution_count": 10,
   "metadata": {},
   "outputs": [
    {
     "data": {
      "text/plain": "688981.0"
     },
     "execution_count": 10,
     "metadata": {},
     "output_type": "execute_result"
    }
   ],
   "source": [
    "priceMax[\"Account\"].mean() "
   ]
  },
  {
   "cell_type": "code",
   "execution_count": 22,
   "metadata": {},
   "outputs": [
    {
     "data": {
      "text/plain": "0"
     },
     "execution_count": 22,
     "metadata": {},
     "output_type": "execute_result"
    }
   ],
   "source": [
    "# priceMax[\"Account\"].agg(lambda df:df.max()-df.min())\n",
    "priceMax[\"Account\"].agg(lambda df:df.max()-df.min())"
   ]
  },
  {
   "cell_type": "code",
   "execution_count": 12,
   "metadata": {},
   "outputs": [
    {
     "data": {
      "text/plain": "470953.875"
     },
     "execution_count": 12,
     "metadata": {},
     "output_type": "execute_result"
    }
   ],
   "source": [
    "quantityMin[\"Account\"].mean()"
   ]
  },
  {
   "cell_type": "code",
   "execution_count": 13,
   "metadata": {},
   "outputs": [
    {
     "data": {
      "text/plain": "576734"
     },
     "execution_count": 13,
     "metadata": {},
     "output_type": "execute_result"
    }
   ],
   "source": [
    "quantityMin[\"Account\"].agg(lambda df:df.max()-df.min())"
   ]
  },
  {
   "cell_type": "code",
   "execution_count": 14,
   "metadata": {},
   "outputs": [
    {
     "data": {
      "text/plain": "Rep          Cedric Moss  Craig Booker  Daniel Hilton  John Smith  Wendy Yule\nProduct                                                                      \nCPU              47500.0       32500.0        52500.0     35000.0     82500.0\nMaintenance       5000.0        5000.0            NaN      5000.0      7000.0\nMonitor              NaN           NaN            NaN         NaN      5000.0\nSoftware         10000.0       10000.0        10000.0         NaN         NaN",
      "text/html": "<div>\n<style scoped>\n    .dataframe tbody tr th:only-of-type {\n        vertical-align: middle;\n    }\n\n    .dataframe tbody tr th {\n        vertical-align: top;\n    }\n\n    .dataframe thead th {\n        text-align: right;\n    }\n</style>\n<table border=\"1\" class=\"dataframe\">\n  <thead>\n    <tr style=\"text-align: right;\">\n      <th>Rep</th>\n      <th>Cedric Moss</th>\n      <th>Craig Booker</th>\n      <th>Daniel Hilton</th>\n      <th>John Smith</th>\n      <th>Wendy Yule</th>\n    </tr>\n    <tr>\n      <th>Product</th>\n      <th></th>\n      <th></th>\n      <th></th>\n      <th></th>\n      <th></th>\n    </tr>\n  </thead>\n  <tbody>\n    <tr>\n      <th>CPU</th>\n      <td>47500.0</td>\n      <td>32500.0</td>\n      <td>52500.0</td>\n      <td>35000.0</td>\n      <td>82500.0</td>\n    </tr>\n    <tr>\n      <th>Maintenance</th>\n      <td>5000.0</td>\n      <td>5000.0</td>\n      <td>NaN</td>\n      <td>5000.0</td>\n      <td>7000.0</td>\n    </tr>\n    <tr>\n      <th>Monitor</th>\n      <td>NaN</td>\n      <td>NaN</td>\n      <td>NaN</td>\n      <td>NaN</td>\n      <td>5000.0</td>\n    </tr>\n    <tr>\n      <th>Software</th>\n      <td>10000.0</td>\n      <td>10000.0</td>\n      <td>10000.0</td>\n      <td>NaN</td>\n      <td>NaN</td>\n    </tr>\n  </tbody>\n</table>\n</div>"
     },
     "execution_count": 14,
     "metadata": {},
     "output_type": "execute_result"
    }
   ],
   "source": [
    "# 3、绘制在不同Product分类下商品价格的透视表和条形图。\n",
    "table1=pd.pivot_table(excel1,index=\"Product\",columns=\"Rep\",values=\"Price\")\n",
    "table1"
   ]
  },
  {
   "cell_type": "code",
   "execution_count": 15,
   "metadata": {},
   "outputs": [
    {
     "data": {
      "text/plain": "<AxesSubplot:xlabel='Product'>"
     },
     "execution_count": 15,
     "metadata": {},
     "output_type": "execute_result"
    },
    {
     "data": {
      "text/plain": "<Figure size 432x288 with 1 Axes>",
      "image/png": "[encoded data removed]"
     },
     "metadata": {
      "needs_background": "light"
     },
     "output_type": "display_data"
    }
   ],
   "source": [
    "table1.plot(kind=\"bar\")"
   ]
  },
  {
   "cell_type": "code",
   "execution_count": 16,
   "metadata": {},
   "outputs": [
    {
     "data": {
      "text/plain": "    NAME GENDER   ID SCORE COUNTRY          JOB\n0   Mike      M    1    92       US    engineer\n1   Mary      F    2   100       UK      artist\n2    Bob      M    3    90       US     manager\n3  Susan      F  NaN    95       US  accountant\n4   Hill      M    5    92       UK     manager\n5  Linda      F    6    NO       CA   secretary\n6   John      M    7    86       CA       staff\n7   Paul    NaN   NO   NaN      NaN         NaN\n8    Amy      F    9    97       US       staff\n9   Jack      M   10   NaN       UK     dentist",
      "text/html": "<div>\n<style scoped>\n    .dataframe tbody tr th:only-of-type {\n        vertical-align: middle;\n    }\n\n    .dataframe tbody tr th {\n        vertical-align: top;\n    }\n\n    .dataframe thead th {\n        text-align: right;\n    }\n</style>\n<table border=\"1\" class=\"dataframe\">\n  <thead>\n    <tr style=\"text-align: right;\">\n      <th></th>\n      <th>NAME</th>\n      <th>GENDER</th>\n      <th>ID</th>\n      <th>SCORE</th>\n      <th>COUNTRY</th>\n      <th>JOB</th>\n    </tr>\n  </thead>\n  <tbody>\n    <tr>\n      <th>0</th>\n      <td>Mike</td>\n      <td>M</td>\n      <td>1</td>\n      <td>92</td>\n      <td>US</td>\n      <td>engineer</td>\n    </tr>\n    <tr>\n      <th>1</th>\n      <td>Mary</td>\n      <td>F</td>\n      <td>2</td>\n      <td>100</td>\n      <td>UK</td>\n      <td>artist</td>\n    </tr>\n    <tr>\n      <th>2</th>\n      <td>Bob</td>\n      <td>M</td>\n      <td>3</td>\n      <td>90</td>\n      <td>US</td>\n      <td>manager</td>\n    </tr>\n    <tr>\n      <th>3</th>\n      <td>Susan</td>\n      <td>F</td>\n      <td>NaN</td>\n      <td>95</td>\n      <td>US</td>\n      <td>accountant</td>\n    </tr>\n    <tr>\n      <th>4</th>\n      <td>Hill</td>\n      <td>M</td>\n      <td>5</td>\n      <td>92</td>\n      <td>UK</td>\n      <td>manager</td>\n    </tr>\n    <tr>\n      <th>5</th>\n      <td>Linda</td>\n      <td>F</td>\n      <td>6</td>\n      <td>NO</td>\n      <td>CA</td>\n      <td>secretary</td>\n    </tr>\n    <tr>\n      <th>6</th>\n      <td>John</td>\n      <td>M</td>\n      <td>7</td>\n      <td>86</td>\n      <td>CA</td>\n      <td>staff</td>\n    </tr>\n    <tr>\n      <th>7</th>\n      <td>Paul</td>\n      <td>NaN</td>\n      <td>NO</td>\n      <td>NaN</td>\n      <td>NaN</td>\n      <td>NaN</td>\n    </tr>\n    <tr>\n      <th>8</th>\n      <td>Amy</td>\n      <td>F</td>\n      <td>9</td>\n      <td>97</td>\n      <td>US</td>\n      <td>staff</td>\n    </tr>\n    <tr>\n      <th>9</th>\n      <td>Jack</td>\n      <td>M</td>\n      <td>10</td>\n      <td>NaN</td>\n      <td>UK</td>\n      <td>dentist</td>\n    </tr>\n  </tbody>\n</table>\n</div>"
     },
     "execution_count": 16,
     "metadata": {},
     "output_type": "execute_result"
    }
   ],
   "source": [
    "# 4、读取data2,将NO的数据替换成NAN，分别用删除缺失值所在行和用平均数替代缺失值的方式处理数据，求出所有人的平均分。\n",
    "data2=pd.read_excel(\"data2.xlsx\")\n",
    "data2"
   ]
  },
  {
   "cell_type": "code",
   "execution_count": 17,
   "metadata": {},
   "outputs": [
    {
     "data": {
      "text/plain": "    NAME GENDER    ID  SCORE COUNTRY          JOB\n0   Mike      M   1.0   92.0       US    engineer\n1   Mary      F   2.0  100.0       UK      artist\n2    Bob      M   3.0   90.0       US     manager\n3  Susan      F   NaN   95.0       US  accountant\n4   Hill      M   5.0   92.0       UK     manager\n5  Linda      F   6.0    NaN       CA   secretary\n6   John      M   7.0   86.0       CA       staff\n7   Paul    NaN   NaN    NaN      NaN         NaN\n8    Amy      F   9.0   97.0       US       staff\n9   Jack      M  10.0    NaN       UK     dentist",
      "text/html": "<div>\n<style scoped>\n    .dataframe tbody tr th:only-of-type {\n        vertical-align: middle;\n    }\n\n    .dataframe tbody tr th {\n        vertical-align: top;\n    }\n\n    .dataframe thead th {\n        text-align: right;\n    }\n</style>\n<table border=\"1\" class=\"dataframe\">\n  <thead>\n    <tr style=\"text-align: right;\">\n      <th></th>\n      <th>NAME</th>\n      <th>GENDER</th>\n      <th>ID</th>\n      <th>SCORE</th>\n      <th>COUNTRY</th>\n      <th>JOB</th>\n    </tr>\n  </thead>\n  <tbody>\n    <tr>\n      <th>0</th>\n      <td>Mike</td>\n      <td>M</td>\n      <td>1.0</td>\n      <td>92.0</td>\n      <td>US</td>\n      <td>engineer</td>\n    </tr>\n    <tr>\n      <th>1</th>\n      <td>Mary</td>\n      <td>F</td>\n      <td>2.0</td>\n      <td>100.0</td>\n      <td>UK</td>\n      <td>artist</td>\n    </tr>\n    <tr>\n      <th>2</th>\n      <td>Bob</td>\n      <td>M</td>\n      <td>3.0</td>\n      <td>90.0</td>\n      <td>US</td>\n      <td>manager</td>\n    </tr>\n    <tr>\n      <th>3</th>\n      <td>Susan</td>\n      <td>F</td>\n      <td>NaN</td>\n      <td>95.0</td>\n      <td>US</td>\n      <td>accountant</td>\n    </tr>\n    <tr>\n      <th>4</th>\n      <td>Hill</td>\n      <td>M</td>\n      <td>5.0</td>\n      <td>92.0</td>\n      <td>UK</td>\n      <td>manager</td>\n    </tr>\n    <tr>\n      <th>5</th>\n      <td>Linda</td>\n      <td>F</td>\n      <td>6.0</td>\n      <td>NaN</td>\n      <td>CA</td>\n      <td>secretary</td>\n    </tr>\n    <tr>\n      <th>6</th>\n      <td>John</td>\n      <td>M</td>\n      <td>7.0</td>\n      <td>86.0</td>\n      <td>CA</td>\n      <td>staff</td>\n    </tr>\n    <tr>\n      <th>7</th>\n      <td>Paul</td>\n      <td>NaN</td>\n      <td>NaN</td>\n      <td>NaN</td>\n      <td>NaN</td>\n      <td>NaN</td>\n    </tr>\n    <tr>\n      <th>8</th>\n      <td>Amy</td>\n      <td>F</td>\n      <td>9.0</td>\n      <td>97.0</td>\n      <td>US</td>\n      <td>staff</td>\n    </tr>\n    <tr>\n      <th>9</th>\n      <td>Jack</td>\n      <td>M</td>\n      <td>10.0</td>\n      <td>NaN</td>\n      <td>UK</td>\n      <td>dentist</td>\n    </tr>\n  </tbody>\n</table>\n</div>"
     },
     "execution_count": 17,
     "metadata": {},
     "output_type": "execute_result"
    }
   ],
   "source": [
    "data3=data2.replace(\"NO\",np.nan)\n",
    "data3"
   ]
  },
  {
   "cell_type": "code",
   "execution_count": 18,
   "metadata": {},
   "outputs": [
    {
     "data": {
      "text/plain": "   NAME GENDER   ID  SCORE COUNTRY        JOB\n0  Mike      M  1.0   92.0       US  engineer\n1  Mary      F  2.0  100.0       UK    artist\n2   Bob      M  3.0   90.0       US   manager\n4  Hill      M  5.0   92.0       UK   manager\n6  John      M  7.0   86.0       CA     staff\n8   Amy      F  9.0   97.0       US     staff",
      "text/html": "<div>\n<style scoped>\n    .dataframe tbody tr th:only-of-type {\n        vertical-align: middle;\n    }\n\n    .dataframe tbody tr th {\n        vertical-align: top;\n    }\n\n    .dataframe thead th {\n        text-align: right;\n    }\n</style>\n<table border=\"1\" class=\"dataframe\">\n  <thead>\n    <tr style=\"text-align: right;\">\n      <th></th>\n      <th>NAME</th>\n      <th>GENDER</th>\n      <th>ID</th>\n      <th>SCORE</th>\n      <th>COUNTRY</th>\n      <th>JOB</th>\n    </tr>\n  </thead>\n  <tbody>\n    <tr>\n      <th>0</th>\n      <td>Mike</td>\n      <td>M</td>\n      <td>1.0</td>\n      <td>92.0</td>\n      <td>US</td>\n      <td>engineer</td>\n    </tr>\n    <tr>\n      <th>1</th>\n      <td>Mary</td>\n      <td>F</td>\n      <td>2.0</td>\n      <td>100.0</td>\n      <td>UK</td>\n      <td>artist</td>\n    </tr>\n    <tr>\n      <th>2</th>\n      <td>Bob</td>\n      <td>M</td>\n      <td>3.0</td>\n      <td>90.0</td>\n      <td>US</td>\n      <td>manager</td>\n    </tr>\n    <tr>\n      <th>4</th>\n      <td>Hill</td>\n      <td>M</td>\n      <td>5.0</td>\n      <td>92.0</td>\n      <td>UK</td>\n      <td>manager</td>\n    </tr>\n    <tr>\n      <th>6</th>\n      <td>John</td>\n      <td>M</td>\n      <td>7.0</td>\n      <td>86.0</td>\n      <td>CA</td>\n      <td>staff</td>\n    </tr>\n    <tr>\n      <th>8</th>\n      <td>Amy</td>\n      <td>F</td>\n      <td>9.0</td>\n      <td>97.0</td>\n      <td>US</td>\n      <td>staff</td>\n    </tr>\n  </tbody>\n</table>\n</div>"
     },
     "execution_count": 18,
     "metadata": {},
     "output_type": "execute_result"
    }
   ],
   "source": [
    "data4=data3.dropna(axis=0,how=\"any\")\n",
    "data4"
   ]
  },
  {
   "cell_type": "code",
   "execution_count": 19,
   "metadata": {},
   "outputs": [
    {
     "name": "stderr",
     "output_type": "stream",
     "text": [
      "C:\\Users\\31815\\AppData\\Local\\Temp\\ipykernel_42548\\166701670.py:1: FutureWarning: Dropping of nuisance columns in DataFrame reductions (with 'numeric_only=None') is deprecated; in a future version this will raise TypeError.  Select only valid columns before calling the reduction.\n",
      "  data5=data3.fillna(data3.mean())\n"
     ]
    },
    {
     "data": {
      "text/plain": "    NAME GENDER      ID       SCORE COUNTRY          JOB\n0   Mike      M   1.000   92.000000       US    engineer\n1   Mary      F   2.000  100.000000       UK      artist\n2    Bob      M   3.000   90.000000       US     manager\n3  Susan      F   5.375   95.000000       US  accountant\n4   Hill      M   5.000   92.000000       UK     manager\n5  Linda      F   6.000   93.142857       CA   secretary\n6   John      M   7.000   86.000000       CA       staff\n7   Paul    NaN   5.375   93.142857      NaN         NaN\n8    Amy      F   9.000   97.000000       US       staff\n9   Jack      M  10.000   93.142857       UK     dentist",
      "text/html": "<div>\n<style scoped>\n    .dataframe tbody tr th:only-of-type {\n        vertical-align: middle;\n    }\n\n    .dataframe tbody tr th {\n        vertical-align: top;\n    }\n\n    .dataframe thead th {\n        text-align: right;\n    }\n</style>\n<table border=\"1\" class=\"dataframe\">\n  <thead>\n    <tr style=\"text-align: right;\">\n      <th></th>\n      <th>NAME</th>\n      <th>GENDER</th>\n      <th>ID</th>\n      <th>SCORE</th>\n      <th>COUNTRY</th>\n      <th>JOB</th>\n    </tr>\n  </thead>\n  <tbody>\n    <tr>\n      <th>0</th>\n      <td>Mike</td>\n      <td>M</td>\n      <td>1.000</td>\n      <td>92.000000</td>\n      <td>US</td>\n      <td>engineer</td>\n    </tr>\n    <tr>\n      <th>1</th>\n      <td>Mary</td>\n      <td>F</td>\n      <td>2.000</td>\n      <td>100.000000</td>\n      <td>UK</td>\n      <td>artist</td>\n    </tr>\n    <tr>\n      <th>2</th>\n      <td>Bob</td>\n      <td>M</td>\n      <td>3.000</td>\n      <td>90.000000</td>\n      <td>US</td>\n      <td>manager</td>\n    </tr>\n    <tr>\n      <th>3</th>\n      <td>Susan</td>\n      <td>F</td>\n      <td>5.375</td>\n      <td>95.000000</td>\n      <td>US</td>\n      <td>accountant</td>\n    </tr>\n    <tr>\n      <th>4</th>\n      <td>Hill</td>\n      <td>M</td>\n      <td>5.000</td>\n      <td>92.000000</td>\n      <td>UK</td>\n      <td>manager</td>\n    </tr>\n    <tr>\n      <th>5</th>\n      <td>Linda</td>\n      <td>F</td>\n      <td>6.000</td>\n      <td>93.142857</td>\n      <td>CA</td>\n      <td>secretary</td>\n    </tr>\n    <tr>\n      <th>6</th>\n      <td>John</td>\n      <td>M</td>\n      <td>7.000</td>\n      <td>86.000000</td>\n      <td>CA</td>\n      <td>staff</td>\n    </tr>\n    <tr>\n      <th>7</th>\n      <td>Paul</td>\n      <td>NaN</td>\n      <td>5.375</td>\n      <td>93.142857</td>\n      <td>NaN</td>\n      <td>NaN</td>\n    </tr>\n    <tr>\n      <th>8</th>\n      <td>Amy</td>\n      <td>F</td>\n      <td>9.000</td>\n      <td>97.000000</td>\n      <td>US</td>\n      <td>staff</td>\n    </tr>\n    <tr>\n      <th>9</th>\n      <td>Jack</td>\n      <td>M</td>\n      <td>10.000</td>\n      <td>93.142857</td>\n      <td>UK</td>\n      <td>dentist</td>\n    </tr>\n  </tbody>\n</table>\n</div>"
     },
     "execution_count": 19,
     "metadata": {},
     "output_type": "execute_result"
    }
   ],
   "source": [
    "data5=data3.fillna(data3.mean())\n",
    "data5"
   ]
  },
  {
   "cell_type": "code",
   "execution_count": 20,
   "metadata": {},
   "outputs": [
    {
     "name": "stderr",
     "output_type": "stream",
     "text": [
      "C:\\Users\\31815\\AppData\\Local\\Temp\\ipykernel_42548\\763267946.py:1: FutureWarning: Dropping of nuisance columns in DataFrame reductions (with 'numeric_only=None') is deprecated; in a future version this will raise TypeError.  Select only valid columns before calling the reduction.\n",
      "  data4.mean()\n"
     ]
    },
    {
     "data": {
      "text/plain": "ID        4.500000\nSCORE    92.833333\ndtype: float64"
     },
     "execution_count": 20,
     "metadata": {},
     "output_type": "execute_result"
    }
   ],
   "source": [
    "data4.mean()"
   ]
  },
  {
   "cell_type": "code",
   "execution_count": 20,
   "metadata": {},
   "outputs": [],
   "source": []
  }
 ],
 "metadata": {
  "kernelspec": {
   "display_name": "Python 3 (ipykernel)",
   "language": "python",
   "name": "python3"
  },
  "language_info": {
   "codemirror_mode": {
    "name": "ipython",
    "version": 3
   },
   "file_extension": ".py",
   "mimetype": "text/x-python",
   "name": "python",
   "nbconvert_exporter": "python",
   "pygments_lexer": "ipython3",
   "version": "3.9.12"
  },
  "vscode": {
   "interpreter": {
    "hash": "3bf3a4c08d772500fe80480d234fda284fcda7cd846a744588210699020a3931"
   }
  }
 },
 "nbformat": 4,
 "nbformat_minor": 2
}
