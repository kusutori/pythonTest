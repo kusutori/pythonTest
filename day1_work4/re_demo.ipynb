{
 "cells": [
  {
   "cell_type": "code",
   "execution_count": 1,
   "id": "9b77ca57",
   "metadata": {},
   "outputs": [],
   "source": [
    "# 单字符匹配\n",
    "\n",
    "# .匹配1个字符串（除了\\n)\n",
    "#\\d 匹配数字（0-9）\n",
    "#\\D 匹配非数字\n",
    "#\\s 匹配空白（空格或tab键）\n",
    "#\\S 匹配非空白\n",
    "#\\w 匹配单词字符\n",
    "#\\W 匹配非单词字符"
   ]
  },
  {
   "cell_type": "code",
   "execution_count": 21,
   "id": "fdcf64db",
   "metadata": {},
   "outputs": [
    {
     "name": "stdout",
     "output_type": "stream",
     "text": [
      "<re.Match object; span=(0, 4), match='tgae'>\n"
     ]
    }
   ],
   "source": [
    "import re\n",
    "#.匹配1个字符串（除了\\n)\n",
    "a=re.match(\"t...\",\"tgaestjsiodnoi\")\n",
    "print(a)"
   ]
  },
  {
   "cell_type": "code",
   "execution_count": 3,
   "id": "a773b34d",
   "metadata": {},
   "outputs": [
    {
     "name": "stdout",
     "output_type": "stream",
     "text": [
      "<re.Match object; span=(0, 3), match='228'>\n"
     ]
    }
   ],
   "source": [
    "#\\d 匹配数字（0-9）\n",
    "#开头没匹配到，即使字符串其他部分包含需要匹配的内容，.match也会返回none\n",
    "a=re.match(\"\\d\\d\\d\",\"228678anjji5742odn\")\n",
    "print(a)"
   ]
  },
  {
   "cell_type": "code",
   "execution_count": 24,
   "id": "8dea6cac",
   "metadata": {},
   "outputs": [
    {
     "name": "stdout",
     "output_type": "stream",
     "text": [
      "None\n"
     ]
    }
   ],
   "source": [
    "print(re.match('\\s','23es 12testasdtest'))"
   ]
  },
  {
   "cell_type": "code",
   "execution_count": 5,
   "id": "ce065cf9",
   "metadata": {},
   "outputs": [
    {
     "name": "stdout",
     "output_type": "stream",
     "text": [
      "None\n"
     ]
    }
   ],
   "source": [
    "#\\w 匹配单词字符\n",
    "print(re.match('\\w\\w','a   3es 12testasdtest'))"
   ]
  },
  {
   "cell_type": "code",
   "execution_count": 6,
   "id": "0fdae14c",
   "metadata": {},
   "outputs": [
    {
     "name": "stdout",
     "output_type": "stream",
     "text": [
      "None\n",
      "None\n"
     ]
    }
   ],
   "source": [
    "#[]匹配[]中列举的字符\n",
    "print(re.match('12[234]','232s123testasdtest'))\n",
    "print(re.match('12[234]','1252s12testasdtest'))"
   ]
  },
  {
   "cell_type": "code",
   "execution_count": 7,
   "id": "e195c7e4",
   "metadata": {},
   "outputs": [],
   "source": [
    "#[^2345] 不匹配2345中的任意一个\n",
    "re.match('12[^234]','122s12testasdtest')"
   ]
  },
  {
   "cell_type": "code",
   "execution_count": null,
   "id": "49cf1050",
   "metadata": {},
   "outputs": [],
   "source": []
  },
  {
   "cell_type": "code",
   "execution_count": null,
   "id": "36212514",
   "metadata": {},
   "outputs": [],
   "source": []
  },
  {
   "cell_type": "code",
   "execution_count": 8,
   "id": "d164d18d",
   "metadata": {},
   "outputs": [],
   "source": [
    "#多字符匹配\n",
    "\n",
    "# *匹配前一个字符出现0次或无限次，即可有可无\n",
    "# +匹配前一个字符出现1次或无限次，即至少有1次\n",
    "# ？匹配前一个字符出现1次或0次\n",
    "# {m}匹配前一个字符出现m次\n",
    "#{m.}匹配前一个字符至少出现m次\n",
    "# {m,n}匹配前一个字符出现m~n次"
   ]
  },
  {
   "cell_type": "code",
   "execution_count": 9,
   "id": "872bd566",
   "metadata": {},
   "outputs": [
    {
     "data": {
      "text/plain": [
       "<re.Match object; span=(0, 16), match='testas45673dtest'>"
      ]
     },
     "execution_count": 9,
     "metadata": {},
     "output_type": "execute_result"
    }
   ],
   "source": [
    "# *匹配前一个字符出现0次或无限次，即可有可无\n",
    "re.match('.*','testas45673dtest') "
   ]
  },
  {
   "cell_type": "code",
   "execution_count": 10,
   "id": "b79241e1",
   "metadata": {},
   "outputs": [
    {
     "data": {
      "text/plain": [
       "<re.Match object; span=(0, 11), match='23454563456'>"
      ]
     },
     "execution_count": 10,
     "metadata": {},
     "output_type": "execute_result"
    }
   ],
   "source": [
    "re.match('\\d*','23454563456a56atesta678sdtest')"
   ]
  },
  {
   "cell_type": "code",
   "execution_count": 11,
   "id": "1754c35c",
   "metadata": {},
   "outputs": [
    {
     "name": "stdout",
     "output_type": "stream",
     "text": [
      "<re.Match object; span=(0, 5), match='aaaaa'>\n"
     ]
    }
   ],
   "source": [
    "# +匹配前一个字符出现1次或无限次，即至少有1次\n",
    "print(re.match('a+','aaaaatestasdtest'))"
   ]
  },
  {
   "cell_type": "code",
   "execution_count": 12,
   "id": "af809aa1",
   "metadata": {},
   "outputs": [
    {
     "name": "stdout",
     "output_type": "stream",
     "text": [
      "<re.Match object; span=(0, 1), match='a'>\n"
     ]
    }
   ],
   "source": [
    "# ？匹配前一个字符出现1次或0次\n",
    "print(re.match('a?','aaaaaaaabatestasdtest'))"
   ]
  },
  {
   "cell_type": "code",
   "execution_count": 13,
   "id": "0e2873a6",
   "metadata": {},
   "outputs": [
    {
     "name": "stdout",
     "output_type": "stream",
     "text": [
      "<re.Match object; span=(0, 4), match='tooo'>\n"
     ]
    }
   ],
   "source": [
    "# {m}指定出现m次\n",
    "print(re.match('to{3}','tooooooabatestasdtest'))"
   ]
  },
  {
   "cell_type": "code",
   "execution_count": 14,
   "id": "2f042201",
   "metadata": {},
   "outputs": [
    {
     "name": "stdout",
     "output_type": "stream",
     "text": [
      "<re.Match object; span=(0, 5), match='toooo'>\n"
     ]
    }
   ],
   "source": [
    "# {m,}至少出现m次\n",
    "#{m,n} 指定从m-n次的范围\n",
    "print(re.match('to{3,4}','tooooooooabatestasdtest'))"
   ]
  },
  {
   "cell_type": "code",
   "execution_count": 15,
   "id": "e75c504a",
   "metadata": {},
   "outputs": [],
   "source": [
    "#匹配边界\n",
    "#^匹配字符串开头\n",
    "#$匹配字符串结尾"
   ]
  },
  {
   "cell_type": "code",
   "execution_count": 27,
   "id": "e7dec79c",
   "metadata": {},
   "outputs": [
    {
     "name": "stdout",
     "output_type": "stream",
     "text": [
      "<re.Match object; span=(0, 10), match='2testaabbz'>\n"
     ]
    }
   ],
   "source": [
    "print(re.match('.*z$','2testaabbz')) #字符串必须以d结尾"
   ]
  },
  {
   "cell_type": "code",
   "execution_count": 17,
   "id": "b6e56fc6",
   "metadata": {},
   "outputs": [
    {
     "name": "stdout",
     "output_type": "stream",
     "text": [
      "None\n"
     ]
    }
   ],
   "source": [
    "print(re.match('^2st','5stoooabatestas'))#必须以2开头"
   ]
  },
  {
   "cell_type": "code",
   "execution_count": null,
   "id": "3f37b069",
   "metadata": {},
   "outputs": [],
   "source": []
  },
  {
   "cell_type": "code",
   "execution_count": 18,
   "id": "3bc744e9",
   "metadata": {},
   "outputs": [
    {
     "name": "stdout",
     "output_type": "stream",
     "text": [
      "['test', 'test', 'test', 'test']\n"
     ]
    }
   ],
   "source": [
    "#findall  寻找所有能匹配到的字符，并以列表的方式返回\n",
    "print(re.findall('test','123test1test23testtest'))"
   ]
  },
  {
   "cell_type": "code",
   "execution_count": 19,
   "id": "7a9a4bd3",
   "metadata": {},
   "outputs": [],
   "source": [
    "#贪婪匹配与非贪婪匹配"
   ]
  },
  {
   "cell_type": "code",
   "execution_count": 20,
   "id": "93df7177",
   "metadata": {},
   "outputs": [
    {
     "data": {
      "text/plain": [
       "<re.Match object; span=(0, 8), match='aa232367'>"
      ]
     },
     "execution_count": 20,
     "metadata": {},
     "output_type": "execute_result"
    }
   ],
   "source": [
    "re.match(r\"aa\\d+\",\"aa232367sadg\")"
   ]
  },
  {
   "cell_type": "code",
   "execution_count": null,
   "id": "71f8910a",
   "metadata": {},
   "outputs": [],
   "source": [
    "\n"
   ]
  },
  {
   "cell_type": "code",
   "execution_count": null,
   "id": "eb875f68",
   "metadata": {},
   "outputs": [],
   "source": []
  },
  {
   "cell_type": "code",
   "execution_count": null,
   "id": "08a7484d",
   "metadata": {},
   "outputs": [],
   "source": []
  },
  {
   "cell_type": "code",
   "execution_count": null,
   "id": "17b5b401",
   "metadata": {},
   "outputs": [],
   "source": []
  },
  {
   "cell_type": "code",
   "execution_count": null,
   "id": "9a8af406",
   "metadata": {},
   "outputs": [],
   "source": []
  }
 ],
 "metadata": {
  "kernelspec": {
   "display_name": "Python 3.9.12 ('base')",
   "language": "python",
   "name": "python3"
  },
  "language_info": {
   "codemirror_mode": {
    "name": "ipython",
    "version": 3
   },
   "file_extension": ".py",
   "mimetype": "text/x-python",
   "name": "python",
   "nbconvert_exporter": "python",
   "pygments_lexer": "ipython3",
   "version": "3.9.12"
  },
  "vscode": {
   "interpreter": {
    "hash": "3bf3a4c08d772500fe80480d234fda284fcda7cd846a744588210699020a3931"
   }
  }
 },
 "nbformat": 4,
 "nbformat_minor": 5
}
