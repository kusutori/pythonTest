{
 "cells": [
  {
   "cell_type": "code",
   "execution_count": 1,
   "id": "6486311b",
   "metadata": {},
   "outputs": [],
   "source": [
    "var=\"hello world!\""
   ]
  },
  {
   "cell_type": "code",
   "execution_count": 2,
   "id": "c8ea859e",
   "metadata": {},
   "outputs": [
    {
     "data": {
      "text/plain": [
       "'ello w'"
      ]
     },
     "execution_count": 2,
     "metadata": {},
     "output_type": "execute_result"
    }
   ],
   "source": [
    "var[1:7]"
   ]
  },
  {
   "cell_type": "code",
   "execution_count": 3,
   "id": "723f19ea",
   "metadata": {},
   "outputs": [
    {
     "data": {
      "text/plain": [
       "'hello Mary'"
      ]
     },
     "execution_count": 3,
     "metadata": {},
     "output_type": "execute_result"
    }
   ],
   "source": [
    "var[:6]+\"Mary\""
   ]
  },
  {
   "cell_type": "code",
   "execution_count": 4,
   "id": "17a12c87",
   "metadata": {},
   "outputs": [
    {
     "name": "stdout",
     "output_type": "stream",
     "text": [
      "hello\n",
      "world\n"
     ]
    }
   ],
   "source": [
    "print(\"hello\\nworld\")"
   ]
  },
  {
   "cell_type": "code",
   "execution_count": 5,
   "id": "cd633c33",
   "metadata": {},
   "outputs": [
    {
     "data": {
      "text/plain": [
       "'hellohellohello'"
      ]
     },
     "execution_count": 5,
     "metadata": {},
     "output_type": "execute_result"
    }
   ],
   "source": [
    "a=\"hello\"\n",
    "b=\"world\"\n",
    "a+b\n",
    "a*3\n"
   ]
  },
  {
   "cell_type": "code",
   "execution_count": 6,
   "id": "0882cc64",
   "metadata": {},
   "outputs": [
    {
     "data": {
      "text/plain": [
       "False"
      ]
     },
     "execution_count": 6,
     "metadata": {},
     "output_type": "execute_result"
    }
   ],
   "source": [
    "\"h\" not in a"
   ]
  },
  {
   "cell_type": "code",
   "execution_count": 30,
   "id": "f5f63fd0",
   "metadata": {},
   "outputs": [
    {
     "data": {
      "text/plain": [
       "6"
      ]
     },
     "execution_count": 30,
     "metadata": {},
     "output_type": "execute_result"
    }
   ],
   "source": [
    "s=\"apple,peach,banana,peach\"\n",
    "s.find(\"peach\")\n",
    "s.index(\"pe\")"
   ]
  },
  {
   "cell_type": "code",
   "execution_count": 8,
   "id": "e0305878",
   "metadata": {},
   "outputs": [
    {
     "data": {
      "text/plain": [
       "4"
      ]
     },
     "execution_count": 8,
     "metadata": {},
     "output_type": "execute_result"
    }
   ],
   "source": [
    "s.count(\"p\")"
   ]
  },
  {
   "cell_type": "code",
   "execution_count": 31,
   "id": "309a5323",
   "metadata": {},
   "outputs": [
    {
     "data": {
      "text/plain": [
       "'apple,peach,banana,peach'"
      ]
     },
     "execution_count": 31,
     "metadata": {},
     "output_type": "execute_result"
    }
   ],
   "source": [
    "s"
   ]
  },
  {
   "cell_type": "code",
   "execution_count": 33,
   "id": "7afa2e0a",
   "metadata": {},
   "outputs": [
    {
     "data": {
      "text/plain": [
       "['apple', 'peach', 'banana', 'peach']"
      ]
     },
     "execution_count": 33,
     "metadata": {},
     "output_type": "execute_result"
    }
   ],
   "source": [
    "l=s.split(\",\")\n",
    "l"
   ]
  },
  {
   "cell_type": "code",
   "execution_count": 34,
   "id": "49ddb91f",
   "metadata": {},
   "outputs": [
    {
     "data": {
      "text/plain": [
       "'apple:peach:banana:peach'"
      ]
     },
     "execution_count": 34,
     "metadata": {},
     "output_type": "execute_result"
    }
   ],
   "source": [
    "\":\".join(l)"
   ]
  },
  {
   "cell_type": "code",
   "execution_count": 36,
   "id": "f80b6cf4",
   "metadata": {},
   "outputs": [
    {
     "data": {
      "text/plain": [
       "'What is your name?'"
      ]
     },
     "execution_count": 36,
     "metadata": {},
     "output_type": "execute_result"
    }
   ],
   "source": [
    "a=\"what is your name?\"\n",
    "a1=a.capitalize()\n",
    "a1"
   ]
  },
  {
   "cell_type": "code",
   "execution_count": 12,
   "id": "0433fc24",
   "metadata": {},
   "outputs": [
    {
     "data": {
      "text/plain": [
       "'中华人民共和国，中华人民共和国'"
      ]
     },
     "execution_count": 12,
     "metadata": {},
     "output_type": "execute_result"
    }
   ],
   "source": [
    "s=\"中国，中国\"\n",
    "s.replace(\"中国\",\"中华人民共和国\")"
   ]
  },
  {
   "cell_type": "code",
   "execution_count": 13,
   "id": "a7a912ec",
   "metadata": {},
   "outputs": [
    {
     "data": {
      "text/plain": [
       "'abc'"
      ]
     },
     "execution_count": 13,
     "metadata": {},
     "output_type": "execute_result"
    }
   ],
   "source": [
    "b=\"abc     \"\n",
    "s1=b.strip()\n",
    "s1"
   ]
  },
  {
   "cell_type": "code",
   "execution_count": 14,
   "id": "c561f70b",
   "metadata": {},
   "outputs": [
    {
     "data": {
      "text/plain": [
       "''"
      ]
     },
     "execution_count": 14,
     "metadata": {},
     "output_type": "execute_result"
    }
   ],
   "source": [
    "\"aaaaaaddff\".strip(\"adf\")"
   ]
  },
  {
   "cell_type": "code",
   "execution_count": 40,
   "id": "e0c5b822",
   "metadata": {},
   "outputs": [
    {
     "data": {
      "text/plain": [
       "False"
      ]
     },
     "execution_count": 40,
     "metadata": {},
     "output_type": "execute_result"
    }
   ],
   "source": [
    "b.startswith(\"t\")\n"
   ]
  },
  {
   "cell_type": "code",
   "execution_count": 16,
   "id": "21f6840a",
   "metadata": {},
   "outputs": [],
   "source": [
    "import re"
   ]
  },
  {
   "cell_type": "code",
   "execution_count": 17,
   "id": "6012c136",
   "metadata": {},
   "outputs": [],
   "source": [
    "string=\"dfghyipython5tuygbhpythonmmmmm\""
   ]
  },
  {
   "cell_type": "code",
   "execution_count": 18,
   "id": "ff2abcce",
   "metadata": {},
   "outputs": [],
   "source": [
    "pattern=\".python\""
   ]
  },
  {
   "cell_type": "code",
   "execution_count": 59,
   "id": "ac3f1814",
   "metadata": {},
   "outputs": [],
   "source": [
    "s=re.compile(pattern).findall(string)"
   ]
  },
  {
   "cell_type": "code",
   "execution_count": 60,
   "id": "4bf7543e",
   "metadata": {},
   "outputs": [
    {
     "data": {
      "text/plain": [
       "['ipython', 'hpython']"
      ]
     },
     "execution_count": 60,
     "metadata": {},
     "output_type": "execute_result"
    }
   ],
   "source": [
    "s1"
   ]
  },
  {
   "cell_type": "code",
   "execution_count": 46,
   "id": "c0a52b76",
   "metadata": {},
   "outputs": [
    {
     "data": {
      "text/plain": [
       "re.compile(r'(\\d{3})-(\\d{8})', re.UNICODE)"
      ]
     },
     "execution_count": 46,
     "metadata": {},
     "output_type": "execute_result"
    }
   ],
   "source": [
    "li=[\"010-87654321\",\"555555-999999\",\"888-88888888\",\"78j578\"]\n",
    "tele=re.compile(\"(\\d{3})-(\\d{8})\")\n",
    "tele"
   ]
  },
  {
   "cell_type": "code",
   "execution_count": 47,
   "id": "51a6dee0",
   "metadata": {},
   "outputs": [
    {
     "name": "stdout",
     "output_type": "stream",
     "text": [
      "010-87654321\n",
      "888-88888888\n"
     ]
    }
   ],
   "source": [
    "for i in li:\n",
    "    s=tele.match(i)\n",
    "    if s:\n",
    "        print(i)"
   ]
  },
  {
   "cell_type": "code",
   "execution_count": 61,
   "id": "aff21994",
   "metadata": {},
   "outputs": [
    {
     "data": {
      "text/plain": [
       "<re.Match object; span=(0, 16), match='463834196@qq.com'>"
      ]
     },
     "execution_count": 61,
     "metadata": {},
     "output_type": "execute_result"
    }
   ],
   "source": [
    "id_email=\"463834196@qq.com\"\n",
    "id_format=\"[a-z0-9A-Z.]+@[a-z0-9A-Z.]+\"\n",
    "id=re.compile(id_format).match(id_email)\n",
    "id"
   ]
  },
  {
   "cell_type": "code",
   "execution_count": 24,
   "id": "1ea9d562",
   "metadata": {},
   "outputs": [
    {
     "data": {
      "text/plain": [
       "True"
      ]
     },
     "execution_count": 24,
     "metadata": {},
     "output_type": "execute_result"
    }
   ],
   "source": [
    "\"2\" in str(22)"
   ]
  },
  {
   "cell_type": "code",
   "execution_count": null,
   "id": "a600b26b",
   "metadata": {},
   "outputs": [],
   "source": []
  },
  {
   "cell_type": "code",
   "execution_count": null,
   "id": "fa410e87",
   "metadata": {},
   "outputs": [],
   "source": []
  },
  {
   "cell_type": "code",
   "execution_count": null,
   "id": "f4e8f69c",
   "metadata": {},
   "outputs": [],
   "source": []
  }
 ],
 "metadata": {
  "kernelspec": {
   "display_name": "Python 3.9.12 ('base')",
   "language": "python",
   "name": "python3"
  },
  "language_info": {
   "codemirror_mode": {
    "name": "ipython",
    "version": 3
   },
   "file_extension": ".py",
   "mimetype": "text/x-python",
   "name": "python",
   "nbconvert_exporter": "python",
   "pygments_lexer": "ipython3",
   "version": "3.9.12"
  },
  "vscode": {
   "interpreter": {
    "hash": "3bf3a4c08d772500fe80480d234fda284fcda7cd846a744588210699020a3931"
   }
  }
 },
 "nbformat": 4,
 "nbformat_minor": 5
}
