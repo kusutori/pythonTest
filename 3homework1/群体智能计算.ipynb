{
 "cells": [
  {
   "cell_type": "code",
   "execution_count": 277,
   "metadata": {},
   "outputs": [],
   "source": [
    "import numpy as np"
   ]
  },
  {
   "attachments": {},
   "cell_type": "markdown",
   "metadata": {},
   "source": [
    "# 定义目标函数"
   ]
  },
  {
   "cell_type": "code",
   "execution_count": 278,
   "metadata": {},
   "outputs": [],
   "source": [
    "# 定义目标函数\n",
    "def aimfun(x):\n",
    "    return 10*np.sin(5*x)+7*abs(x-5)+10"
   ]
  },
  {
   "attachments": {},
   "cell_type": "markdown",
   "metadata": {},
   "source": [
    "# 生成种群"
   ]
  },
  {
   "cell_type": "code",
   "execution_count": 279,
   "metadata": {},
   "outputs": [],
   "source": [
    "def GenPro(num,lens):\n",
    "    return np.random.randint(0,2,size=(num,lens))"
   ]
  },
  {
   "attachments": {},
   "cell_type": "markdown",
   "metadata": {},
   "source": [
    "# 解码"
   ]
  },
  {
   "cell_type": "code",
   "execution_count": 280,
   "metadata": {},
   "outputs": [],
   "source": [
    "def GenTrans(gen):\n",
    "    # 先把数据变成字符串\n",
    "    gen = gen.astype(str)\n",
    "    # 把数组变成列表\n",
    "    gen_list = list(gen)\n",
    "    # 把列表中的元素用空格连接起来，转成10进制\n",
    "    gen_10 = int(\"\".join(gen_list),2)\n",
    "    return gen_10*0.00001"
   ]
  },
  {
   "attachments": {},
   "cell_type": "markdown",
   "metadata": {},
   "source": [
    "# 基因交换函数"
   ]
  },
  {
   "cell_type": "code",
   "execution_count": 281,
   "metadata": {},
   "outputs": [],
   "source": [
    "def GenExchange(gen1,gen2):\n",
    "    pointloc =np.random.randint(0,len(gen1))\n",
    "    new_gen1 = np.concatenate((gen1[:pointloc],gen2[pointloc:]))\n",
    "    new_gen2 = np.concatenate((gen2[:pointloc],gen1[pointloc:]))\n",
    "    # 两个样本随机取一个\n",
    "    if np.random.random() <0.5:\n",
    "        return new_gen1\n",
    "    else:\n",
    "        return new_gen2"
   ]
  },
  {
   "attachments": {},
   "cell_type": "markdown",
   "metadata": {},
   "source": [
    "# 定义相关参数"
   ]
  },
  {
   "cell_type": "code",
   "execution_count": 282,
   "metadata": {},
   "outputs": [],
   "source": [
    "num =20 # 种群个数\n",
    "lens = 20 # 二进制编码长度\n",
    "Maxiter =10"
   ]
  },
  {
   "attachments": {},
   "cell_type": "markdown",
   "metadata": {},
   "source": [
    "# 选择"
   ]
  },
  {
   "cell_type": "code",
   "execution_count": 283,
   "metadata": {},
   "outputs": [],
   "source": [
    "x=[]\n",
    "y=[]\n",
    "# 生成基因种群\n",
    "Gen_test=GenPro(num=num,lens=lens)\n",
    "for it in range(Maxiter):\n",
    "    # 定义一下适应值的空间\n",
    "    gen_value = np.ones(num)\n",
    "    # 同时记录对应解\n",
    "    gen_x = np.ones(num)\n",
    "    for gn,ge in enumerate(Gen_test):\n",
    "        gen_x[gn] = GenTrans(ge)\n",
    "        gen_value[gn] = aimfun(GenTrans(ge))\n",
    "\n",
    "    # 根据适应度找最优的基因\n",
    "    best_index = np.argmin(gen_value)\n",
    "    # 提取最优秀基因\n",
    "    best_gen = Gen_test[best_index,:] # 最优基因\n",
    "\n",
    "    # 输出本次迭代的最小y值\n",
    "    y.append(np.min(gen_value))\n",
    "    # 输出对应的x值\n",
    "    x.append(gen_x[best_index])\n",
    "\n",
    "    # 更新基因\n",
    "    # 将最优基因与其他基因进行杂交\n",
    "    for g,gen in enumerate(Gen_test):\n",
    "        Gen_test[g] = GenExchange(gen,best_gen)\n",
    "\n"
   ]
  },
  {
   "cell_type": "code",
   "execution_count": 284,
   "metadata": {},
   "outputs": [
    {
     "data": {
      "text/plain": [
       "[<matplotlib.lines.Line2D at 0x26f09b38880>]"
      ]
     },
     "execution_count": 284,
     "metadata": {},
     "output_type": "execute_result"
    },
    {
     "data": {
      "image/png": "[encoded data removed]",
      "text/plain": [
       "<Figure size 432x288 with 1 Axes>"
      ]
     },
     "metadata": {
      "needs_background": "light"
     },
     "output_type": "display_data"
    }
   ],
   "source": [
    "import matplotlib.pyplot as plt\n",
    "plt .rcParams['font.sans-serif']=['SimHei'] # 用来正常显示中文标签\n",
    "plt .rcParams['axes.unicode_minus']=False # 用来正常显示负号\n",
    "plt.plot(x)"
   ]
  },
  {
   "cell_type": "code",
   "execution_count": 285,
   "metadata": {},
   "outputs": [
    {
     "data": {
      "text/plain": [
       "[<matplotlib.lines.Line2D at 0x26f09bb5070>]"
      ]
     },
     "execution_count": 285,
     "metadata": {},
     "output_type": "execute_result"
    },
    {
     "data": {
      "image/png": "[encoded data removed]",
      "text/plain": [
       "<Figure size 432x288 with 1 Axes>"
      ]
     },
     "metadata": {
      "needs_background": "light"
     },
     "output_type": "display_data"
    }
   ],
   "source": [
    "plt.plot(y)"
   ]
  },
  {
   "cell_type": "code",
   "execution_count": null,
   "metadata": {},
   "outputs": [],
   "source": []
  }
 ],
 "metadata": {
  "kernelspec": {
   "display_name": "base",
   "language": "python",
   "name": "python3"
  },
  "language_info": {
   "codemirror_mode": {
    "name": "ipython",
    "version": 3
   },
   "file_extension": ".py",
   "mimetype": "text/x-python",
   "name": "python",
   "nbconvert_exporter": "python",
   "pygments_lexer": "ipython3",
   "version": "3.9.12"
  },
  "orig_nbformat": 4,
  "vscode": {
   "interpreter": {
    "hash": "3bf3a4c08d772500fe80480d234fda284fcda7cd846a744588210699020a3931"
   }
  }
 },
 "nbformat": 4,
 "nbformat_minor": 2
}
