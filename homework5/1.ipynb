{
 "cells": [
  {
   "cell_type": "code",
   "execution_count": 1,
   "metadata": {},
   "outputs": [],
   "source": [
    "# 冒泡排序\n",
    "def bubble_sort(alist):\n",
    "    for j in range(len(alist)-1,0,-1):\n",
    "        for i in range(j):\n",
    "            if alist[i]>alist[i+1]:\n",
    "                alist[i],alist[i+1]=alist[i+1],alist[i]\n",
    "    return alist"
   ]
  },
  {
   "cell_type": "code",
   "execution_count": 2,
   "metadata": {},
   "outputs": [],
   "source": [
    "# 选择排序\n",
    "def select_sort(alist):\n",
    "    for j in range(len(alist)-1):\n",
    "        min_index=j\n",
    "        for i in range(j+1,len(alist)):\n",
    "            if alist[min_index]>alist[i]:\n",
    "                min_index=i\n",
    "        alist[j],alist[min_index]=alist[min_index],alist[j]\n",
    "    return alist"
   ]
  },
  {
   "cell_type": "code",
   "execution_count": 3,
   "metadata": {},
   "outputs": [],
   "source": [
    "def quick_sort(alist):\n",
    "    if len(alist)<=1:\n",
    "        return alist\n",
    "    else:\n",
    "        mid=alist[0]\n",
    "        left=[i for i in alist[1:] if i<mid]\n",
    "        right=[i for i in alist[1:] if i>=mid]\n",
    "        return quick_sort(left)+[mid]+quick_sort(right)"
   ]
  },
  {
   "cell_type": "code",
   "execution_count": null,
   "metadata": {},
   "outputs": [],
   "source": []
  }
 ],
 "metadata": {
  "kernelspec": {
   "display_name": "Python 3.9.12 ('base')",
   "language": "python",
   "name": "python3"
  },
  "language_info": {
   "codemirror_mode": {
    "name": "ipython",
    "version": 3
   },
   "file_extension": ".py",
   "mimetype": "text/x-python",
   "name": "python",
   "nbconvert_exporter": "python",
   "pygments_lexer": "ipython3",
   "version": "3.9.12"
  },
  "orig_nbformat": 4,
  "vscode": {
   "interpreter": {
    "hash": "3bf3a4c08d772500fe80480d234fda284fcda7cd846a744588210699020a3931"
   }
  }
 },
 "nbformat": 4,
 "nbformat_minor": 2
}
