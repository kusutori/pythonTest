{
 "cells": [
  {
   "cell_type": "code",
   "execution_count": 2,
   "metadata": {},
   "outputs": [],
   "source": [
    "import numpy as np\n",
    "import pandas as pd\n",
    "import matplotlib.pyplot as plt\n",
    "import os"
   ]
  },
  {
   "cell_type": "markdown",
   "metadata": {},
   "source": [
    "# 导入数据"
   ]
  },
  {
   "cell_type": "code",
   "execution_count": 3,
   "metadata": {},
   "outputs": [
    {
     "name": "stderr",
     "output_type": "stream",
     "text": [
      "C:\\Users\\31815\\AppData\\Local\\Temp\\ipykernel_40700\\3045440457.py:5: FutureWarning: The frame.append method is deprecated and will be removed from pandas in a future version. Use pandas.concat instead.\n",
      "  data = data.append(df)\n",
      "C:\\Users\\31815\\AppData\\Local\\Temp\\ipykernel_40700\\3045440457.py:5: FutureWarning: The frame.append method is deprecated and will be removed from pandas in a future version. Use pandas.concat instead.\n",
      "  data = data.append(df)\n",
      "C:\\Users\\31815\\AppData\\Local\\Temp\\ipykernel_40700\\3045440457.py:5: FutureWarning: The frame.append method is deprecated and will be removed from pandas in a future version. Use pandas.concat instead.\n",
      "  data = data.append(df)\n",
      "C:\\Users\\31815\\AppData\\Local\\Temp\\ipykernel_40700\\3045440457.py:5: FutureWarning: The frame.append method is deprecated and will be removed from pandas in a future version. Use pandas.concat instead.\n",
      "  data = data.append(df)\n",
      "C:\\Users\\31815\\AppData\\Local\\Temp\\ipykernel_40700\\3045440457.py:5: FutureWarning: The frame.append method is deprecated and will be removed from pandas in a future version. Use pandas.concat instead.\n",
      "  data = data.append(df)\n",
      "C:\\Users\\31815\\AppData\\Local\\Temp\\ipykernel_40700\\3045440457.py:5: FutureWarning: The frame.append method is deprecated and will be removed from pandas in a future version. Use pandas.concat instead.\n",
      "  data = data.append(df)\n",
      "C:\\Users\\31815\\AppData\\Local\\Temp\\ipykernel_40700\\3045440457.py:5: FutureWarning: The frame.append method is deprecated and will be removed from pandas in a future version. Use pandas.concat instead.\n",
      "  data = data.append(df)\n",
      "C:\\Users\\31815\\AppData\\Local\\Temp\\ipykernel_40700\\3045440457.py:5: FutureWarning: The frame.append method is deprecated and will be removed from pandas in a future version. Use pandas.concat instead.\n",
      "  data = data.append(df)\n",
      "C:\\Users\\31815\\AppData\\Local\\Temp\\ipykernel_40700\\3045440457.py:5: FutureWarning: The frame.append method is deprecated and will be removed from pandas in a future version. Use pandas.concat instead.\n",
      "  data = data.append(df)\n",
      "C:\\Users\\31815\\AppData\\Local\\Temp\\ipykernel_40700\\3045440457.py:5: FutureWarning: The frame.append method is deprecated and will be removed from pandas in a future version. Use pandas.concat instead.\n",
      "  data = data.append(df)\n"
     ]
    },
    {
     "data": {
      "text/plain": [
       "(18514, 9)"
      ]
     },
     "execution_count": 3,
     "metadata": {},
     "output_type": "execute_result"
    }
   ],
   "source": [
    "file_list = os.listdir('data')\n",
    "data = pd.DataFrame()\n",
    "for file in file_list:\n",
    "    df= pd.read_excel(f'data/{file}',index_col=0)\n",
    "    data = data.append(df)\n",
    "data.shape"
   ]
  },
  {
   "cell_type": "code",
   "execution_count": 4,
   "metadata": {},
   "outputs": [
    {
     "name": "stdout",
     "output_type": "stream",
     "text": [
      "<class 'pandas.core.frame.DataFrame'>\n",
      "Int64Index: 18514 entries, 228757275 to 226378735\n",
      "Data columns (total 9 columns):\n",
      " #   Column     Non-Null Count  Dtype  \n",
      "---  ------     --------------  -----  \n",
      " 0   district   18514 non-null  object \n",
      " 1   roomnum    18514 non-null  int64  \n",
      " 2   hall       18514 non-null  int64  \n",
      " 3   AREA       18514 non-null  float64\n",
      " 4   C_floor    18514 non-null  object \n",
      " 5   floor_num  18514 non-null  int64  \n",
      " 6   school     18514 non-null  int64  \n",
      " 7   subway     18514 non-null  int64  \n",
      " 8   per_price  18514 non-null  float64\n",
      "dtypes: float64(2), int64(5), object(2)\n",
      "memory usage: 1.4+ MB\n"
     ]
    }
   ],
   "source": [
    "data.info()"
   ]
  },
  {
   "cell_type": "code",
   "execution_count": 5,
   "metadata": {},
   "outputs": [
    {
     "data": {
      "text/html": [
       "<div>\n",
       "<style scoped>\n",
       "    .dataframe tbody tr th:only-of-type {\n",
       "        vertical-align: middle;\n",
       "    }\n",
       "\n",
       "    .dataframe tbody tr th {\n",
       "        vertical-align: top;\n",
       "    }\n",
       "\n",
       "    .dataframe thead th {\n",
       "        text-align: right;\n",
       "    }\n",
       "</style>\n",
       "<table border=\"1\" class=\"dataframe\">\n",
       "  <thead>\n",
       "    <tr style=\"text-align: right;\">\n",
       "      <th></th>\n",
       "      <th>roomnum</th>\n",
       "      <th>hall</th>\n",
       "      <th>AREA</th>\n",
       "      <th>floor_num</th>\n",
       "      <th>school</th>\n",
       "      <th>subway</th>\n",
       "      <th>per_price</th>\n",
       "    </tr>\n",
       "  </thead>\n",
       "  <tbody>\n",
       "    <tr>\n",
       "      <th>count</th>\n",
       "      <td>18514.000000</td>\n",
       "      <td>18514.000000</td>\n",
       "      <td>18514.000000</td>\n",
       "      <td>18514.000000</td>\n",
       "      <td>18514.000000</td>\n",
       "      <td>18514.000000</td>\n",
       "      <td>18514.000000</td>\n",
       "    </tr>\n",
       "    <tr>\n",
       "      <th>mean</th>\n",
       "      <td>2.873339</td>\n",
       "      <td>1.812844</td>\n",
       "      <td>95.224924</td>\n",
       "      <td>27.482338</td>\n",
       "      <td>0.587447</td>\n",
       "      <td>0.504159</td>\n",
       "      <td>6.118192</td>\n",
       "    </tr>\n",
       "    <tr>\n",
       "      <th>std</th>\n",
       "      <td>1.040839</td>\n",
       "      <td>0.484765</td>\n",
       "      <td>48.570130</td>\n",
       "      <td>10.083653</td>\n",
       "      <td>0.492307</td>\n",
       "      <td>0.499996</td>\n",
       "      <td>3.050218</td>\n",
       "    </tr>\n",
       "    <tr>\n",
       "      <th>min</th>\n",
       "      <td>1.000000</td>\n",
       "      <td>0.000000</td>\n",
       "      <td>15.000000</td>\n",
       "      <td>1.000000</td>\n",
       "      <td>0.000000</td>\n",
       "      <td>0.000000</td>\n",
       "      <td>1.010100</td>\n",
       "    </tr>\n",
       "    <tr>\n",
       "      <th>25%</th>\n",
       "      <td>2.000000</td>\n",
       "      <td>2.000000</td>\n",
       "      <td>70.800000</td>\n",
       "      <td>23.000000</td>\n",
       "      <td>0.000000</td>\n",
       "      <td>0.000000</td>\n",
       "      <td>4.052600</td>\n",
       "    </tr>\n",
       "    <tr>\n",
       "      <th>50%</th>\n",
       "      <td>3.000000</td>\n",
       "      <td>2.000000</td>\n",
       "      <td>88.000000</td>\n",
       "      <td>30.000000</td>\n",
       "      <td>1.000000</td>\n",
       "      <td>1.000000</td>\n",
       "      <td>5.246300</td>\n",
       "    </tr>\n",
       "    <tr>\n",
       "      <th>75%</th>\n",
       "      <td>3.000000</td>\n",
       "      <td>2.000000</td>\n",
       "      <td>103.687500</td>\n",
       "      <td>33.000000</td>\n",
       "      <td>1.000000</td>\n",
       "      <td>1.000000</td>\n",
       "      <td>7.357400</td>\n",
       "    </tr>\n",
       "    <tr>\n",
       "      <th>max</th>\n",
       "      <td>9.000000</td>\n",
       "      <td>6.000000</td>\n",
       "      <td>697.200000</td>\n",
       "      <td>90.000000</td>\n",
       "      <td>1.000000</td>\n",
       "      <td>1.000000</td>\n",
       "      <td>26.396800</td>\n",
       "    </tr>\n",
       "  </tbody>\n",
       "</table>\n",
       "</div>"
      ],
      "text/plain": [
       "            roomnum          hall          AREA     floor_num        school  \\\n",
       "count  18514.000000  18514.000000  18514.000000  18514.000000  18514.000000   \n",
       "mean       2.873339      1.812844     95.224924     27.482338      0.587447   \n",
       "std        1.040839      0.484765     48.570130     10.083653      0.492307   \n",
       "min        1.000000      0.000000     15.000000      1.000000      0.000000   \n",
       "25%        2.000000      2.000000     70.800000     23.000000      0.000000   \n",
       "50%        3.000000      2.000000     88.000000     30.000000      1.000000   \n",
       "75%        3.000000      2.000000    103.687500     33.000000      1.000000   \n",
       "max        9.000000      6.000000    697.200000     90.000000      1.000000   \n",
       "\n",
       "             subway     per_price  \n",
       "count  18514.000000  18514.000000  \n",
       "mean       0.504159      6.118192  \n",
       "std        0.499996      3.050218  \n",
       "min        0.000000      1.010100  \n",
       "25%        0.000000      4.052600  \n",
       "50%        1.000000      5.246300  \n",
       "75%        1.000000      7.357400  \n",
       "max        1.000000     26.396800  "
      ]
     },
     "execution_count": 5,
     "metadata": {},
     "output_type": "execute_result"
    }
   ],
   "source": [
    "data.describe()"
   ]
  },
  {
   "cell_type": "markdown",
   "metadata": {},
   "source": [
    "# 数据清洗"
   ]
  },
  {
   "cell_type": "code",
   "execution_count": 6,
   "metadata": {},
   "outputs": [
    {
     "data": {
      "text/html": [
       "<div>\n",
       "<style scoped>\n",
       "    .dataframe tbody tr th:only-of-type {\n",
       "        vertical-align: middle;\n",
       "    }\n",
       "\n",
       "    .dataframe tbody tr th {\n",
       "        vertical-align: top;\n",
       "    }\n",
       "\n",
       "    .dataframe thead th {\n",
       "        text-align: right;\n",
       "    }\n",
       "</style>\n",
       "<table border=\"1\" class=\"dataframe\">\n",
       "  <thead>\n",
       "    <tr style=\"text-align: right;\">\n",
       "      <th></th>\n",
       "      <th>district</th>\n",
       "      <th>roomnum</th>\n",
       "      <th>hall</th>\n",
       "      <th>AREA</th>\n",
       "      <th>C_floor</th>\n",
       "      <th>floor_num</th>\n",
       "      <th>school</th>\n",
       "      <th>subway</th>\n",
       "      <th>per_price</th>\n",
       "    </tr>\n",
       "    <tr>\n",
       "      <th>Unnamed: 0</th>\n",
       "      <th></th>\n",
       "      <th></th>\n",
       "      <th></th>\n",
       "      <th></th>\n",
       "      <th></th>\n",
       "      <th></th>\n",
       "      <th></th>\n",
       "      <th></th>\n",
       "      <th></th>\n",
       "    </tr>\n",
       "  </thead>\n",
       "  <tbody>\n",
       "    <tr>\n",
       "      <th>228525652</th>\n",
       "      <td>longhua</td>\n",
       "      <td>2</td>\n",
       "      <td>2</td>\n",
       "      <td>79.20</td>\n",
       "      <td>middle</td>\n",
       "      <td>8</td>\n",
       "      <td>0</td>\n",
       "      <td>0</td>\n",
       "      <td>1.0101</td>\n",
       "    </tr>\n",
       "    <tr>\n",
       "      <th>228525545</th>\n",
       "      <td>longhua</td>\n",
       "      <td>2</td>\n",
       "      <td>1</td>\n",
       "      <td>79.03</td>\n",
       "      <td>middle</td>\n",
       "      <td>6</td>\n",
       "      <td>0</td>\n",
       "      <td>0</td>\n",
       "      <td>1.0123</td>\n",
       "    </tr>\n",
       "    <tr>\n",
       "      <th>228872761</th>\n",
       "      <td>dapengxinqu</td>\n",
       "      <td>3</td>\n",
       "      <td>2</td>\n",
       "      <td>71.50</td>\n",
       "      <td>middle</td>\n",
       "      <td>15</td>\n",
       "      <td>0</td>\n",
       "      <td>0</td>\n",
       "      <td>1.0210</td>\n",
       "    </tr>\n",
       "    <tr>\n",
       "      <th>228869853</th>\n",
       "      <td>dapengxinqu</td>\n",
       "      <td>3</td>\n",
       "      <td>2</td>\n",
       "      <td>70.20</td>\n",
       "      <td>low</td>\n",
       "      <td>20</td>\n",
       "      <td>0</td>\n",
       "      <td>0</td>\n",
       "      <td>1.0256</td>\n",
       "    </tr>\n",
       "    <tr>\n",
       "      <th>228251431</th>\n",
       "      <td>longhua</td>\n",
       "      <td>2</td>\n",
       "      <td>1</td>\n",
       "      <td>79.03</td>\n",
       "      <td>middle</td>\n",
       "      <td>6</td>\n",
       "      <td>0</td>\n",
       "      <td>0</td>\n",
       "      <td>1.0376</td>\n",
       "    </tr>\n",
       "    <tr>\n",
       "      <th>...</th>\n",
       "      <td>...</td>\n",
       "      <td>...</td>\n",
       "      <td>...</td>\n",
       "      <td>...</td>\n",
       "      <td>...</td>\n",
       "      <td>...</td>\n",
       "      <td>...</td>\n",
       "      <td>...</td>\n",
       "      <td>...</td>\n",
       "    </tr>\n",
       "    <tr>\n",
       "      <th>228966254</th>\n",
       "      <td>nanshan</td>\n",
       "      <td>4</td>\n",
       "      <td>2</td>\n",
       "      <td>207.75</td>\n",
       "      <td>high</td>\n",
       "      <td>31</td>\n",
       "      <td>1</td>\n",
       "      <td>1</td>\n",
       "      <td>22.1420</td>\n",
       "    </tr>\n",
       "    <tr>\n",
       "      <th>228971607</th>\n",
       "      <td>nanshan</td>\n",
       "      <td>3</td>\n",
       "      <td>1</td>\n",
       "      <td>331.76</td>\n",
       "      <td>middle</td>\n",
       "      <td>35</td>\n",
       "      <td>0</td>\n",
       "      <td>1</td>\n",
       "      <td>22.6067</td>\n",
       "    </tr>\n",
       "    <tr>\n",
       "      <th>227473874</th>\n",
       "      <td>nanshan</td>\n",
       "      <td>3</td>\n",
       "      <td>1</td>\n",
       "      <td>331.76</td>\n",
       "      <td>middle</td>\n",
       "      <td>35</td>\n",
       "      <td>0</td>\n",
       "      <td>1</td>\n",
       "      <td>22.6067</td>\n",
       "    </tr>\n",
       "    <tr>\n",
       "      <th>228457745</th>\n",
       "      <td>nanshan</td>\n",
       "      <td>4</td>\n",
       "      <td>2</td>\n",
       "      <td>320.00</td>\n",
       "      <td>middle</td>\n",
       "      <td>26</td>\n",
       "      <td>0</td>\n",
       "      <td>1</td>\n",
       "      <td>23.4375</td>\n",
       "    </tr>\n",
       "    <tr>\n",
       "      <th>228507707</th>\n",
       "      <td>nanshan</td>\n",
       "      <td>5</td>\n",
       "      <td>2</td>\n",
       "      <td>227.30</td>\n",
       "      <td>high</td>\n",
       "      <td>46</td>\n",
       "      <td>0</td>\n",
       "      <td>1</td>\n",
       "      <td>26.3968</td>\n",
       "    </tr>\n",
       "  </tbody>\n",
       "</table>\n",
       "<p>18514 rows × 9 columns</p>\n",
       "</div>"
      ],
      "text/plain": [
       "               district  roomnum  hall    AREA C_floor  floor_num  school  \\\n",
       "Unnamed: 0                                                                  \n",
       "228525652       longhua        2     2   79.20  middle          8       0   \n",
       "228525545       longhua        2     1   79.03  middle          6       0   \n",
       "228872761   dapengxinqu        3     2   71.50  middle         15       0   \n",
       "228869853   dapengxinqu        3     2   70.20     low         20       0   \n",
       "228251431       longhua        2     1   79.03  middle          6       0   \n",
       "...                 ...      ...   ...     ...     ...        ...     ...   \n",
       "228966254       nanshan        4     2  207.75    high         31       1   \n",
       "228971607       nanshan        3     1  331.76  middle         35       0   \n",
       "227473874       nanshan        3     1  331.76  middle         35       0   \n",
       "228457745       nanshan        4     2  320.00  middle         26       0   \n",
       "228507707       nanshan        5     2  227.30    high         46       0   \n",
       "\n",
       "            subway  per_price  \n",
       "Unnamed: 0                     \n",
       "228525652        0     1.0101  \n",
       "228525545        0     1.0123  \n",
       "228872761        0     1.0210  \n",
       "228869853        0     1.0256  \n",
       "228251431        0     1.0376  \n",
       "...            ...        ...  \n",
       "228966254        1    22.1420  \n",
       "228971607        1    22.6067  \n",
       "227473874        1    22.6067  \n",
       "228457745        1    23.4375  \n",
       "228507707        1    26.3968  \n",
       "\n",
       "[18514 rows x 9 columns]"
      ]
     },
     "execution_count": 6,
     "metadata": {},
     "output_type": "execute_result"
    }
   ],
   "source": [
    "data.sort_values('per_price',ascending=True,inplace=True)\n",
    "data"
   ]
  },
  {
   "cell_type": "code",
   "execution_count": 7,
   "metadata": {},
   "outputs": [
    {
     "data": {
      "text/plain": [
       "2065"
      ]
     },
     "execution_count": 7,
     "metadata": {},
     "output_type": "execute_result"
    }
   ],
   "source": [
    "# 查看重复数据的总条数\n",
    "data.duplicated().sum()"
   ]
  },
  {
   "cell_type": "code",
   "execution_count": 8,
   "metadata": {},
   "outputs": [
    {
     "data": {
      "text/plain": [
       "(16449, 9)"
      ]
     },
     "execution_count": 8,
     "metadata": {},
     "output_type": "execute_result"
    }
   ],
   "source": [
    "# 删除重复数据\n",
    "data.drop_duplicates(keep='first',inplace=True)\n",
    "data.shape"
   ]
  },
  {
   "cell_type": "code",
   "execution_count": 9,
   "metadata": {},
   "outputs": [
    {
     "data": {
      "text/plain": [
       "{'longhua': 0,\n",
       " 'dapengxinqu': 1,\n",
       " 'pingshan': 2,\n",
       " 'guangming': 3,\n",
       " 'luohu': 4,\n",
       " 'baoan': 5,\n",
       " 'nanshan': 6,\n",
       " 'yantian': 7,\n",
       " 'futian': 8,\n",
       " 'longgang': 9}"
      ]
     },
     "execution_count": 9,
     "metadata": {},
     "output_type": "execute_result"
    }
   ],
   "source": [
    "# 数据去重\n",
    "dist_list = data['district'].unique()\n",
    "for i,item in enumerate(dist_list):\n",
    "    pass\n",
    "dict_dist = {item:i for i,item in enumerate(dist_list)}\n",
    "dict_dist"
   ]
  },
  {
   "cell_type": "code",
   "execution_count": 10,
   "metadata": {},
   "outputs": [
    {
     "data": {
      "text/html": [
       "<div>\n",
       "<style scoped>\n",
       "    .dataframe tbody tr th:only-of-type {\n",
       "        vertical-align: middle;\n",
       "    }\n",
       "\n",
       "    .dataframe tbody tr th {\n",
       "        vertical-align: top;\n",
       "    }\n",
       "\n",
       "    .dataframe thead th {\n",
       "        text-align: right;\n",
       "    }\n",
       "</style>\n",
       "<table border=\"1\" class=\"dataframe\">\n",
       "  <thead>\n",
       "    <tr style=\"text-align: right;\">\n",
       "      <th></th>\n",
       "      <th>district</th>\n",
       "      <th>roomnum</th>\n",
       "      <th>hall</th>\n",
       "      <th>AREA</th>\n",
       "      <th>C_floor</th>\n",
       "      <th>floor_num</th>\n",
       "      <th>school</th>\n",
       "      <th>subway</th>\n",
       "      <th>per_price</th>\n",
       "    </tr>\n",
       "    <tr>\n",
       "      <th>Unnamed: 0</th>\n",
       "      <th></th>\n",
       "      <th></th>\n",
       "      <th></th>\n",
       "      <th></th>\n",
       "      <th></th>\n",
       "      <th></th>\n",
       "      <th></th>\n",
       "      <th></th>\n",
       "      <th></th>\n",
       "    </tr>\n",
       "  </thead>\n",
       "  <tbody>\n",
       "    <tr>\n",
       "      <th>228525652</th>\n",
       "      <td>龙华</td>\n",
       "      <td>2</td>\n",
       "      <td>2</td>\n",
       "      <td>79.20</td>\n",
       "      <td>middle</td>\n",
       "      <td>8</td>\n",
       "      <td>0</td>\n",
       "      <td>0</td>\n",
       "      <td>1.0101</td>\n",
       "    </tr>\n",
       "    <tr>\n",
       "      <th>228525545</th>\n",
       "      <td>龙华</td>\n",
       "      <td>2</td>\n",
       "      <td>1</td>\n",
       "      <td>79.03</td>\n",
       "      <td>middle</td>\n",
       "      <td>6</td>\n",
       "      <td>0</td>\n",
       "      <td>0</td>\n",
       "      <td>1.0123</td>\n",
       "    </tr>\n",
       "    <tr>\n",
       "      <th>228872761</th>\n",
       "      <td>大鹏新区</td>\n",
       "      <td>3</td>\n",
       "      <td>2</td>\n",
       "      <td>71.50</td>\n",
       "      <td>middle</td>\n",
       "      <td>15</td>\n",
       "      <td>0</td>\n",
       "      <td>0</td>\n",
       "      <td>1.0210</td>\n",
       "    </tr>\n",
       "    <tr>\n",
       "      <th>228869853</th>\n",
       "      <td>大鹏新区</td>\n",
       "      <td>3</td>\n",
       "      <td>2</td>\n",
       "      <td>70.20</td>\n",
       "      <td>low</td>\n",
       "      <td>20</td>\n",
       "      <td>0</td>\n",
       "      <td>0</td>\n",
       "      <td>1.0256</td>\n",
       "    </tr>\n",
       "    <tr>\n",
       "      <th>228251431</th>\n",
       "      <td>龙华</td>\n",
       "      <td>2</td>\n",
       "      <td>1</td>\n",
       "      <td>79.03</td>\n",
       "      <td>middle</td>\n",
       "      <td>6</td>\n",
       "      <td>0</td>\n",
       "      <td>0</td>\n",
       "      <td>1.0376</td>\n",
       "    </tr>\n",
       "    <tr>\n",
       "      <th>...</th>\n",
       "      <td>...</td>\n",
       "      <td>...</td>\n",
       "      <td>...</td>\n",
       "      <td>...</td>\n",
       "      <td>...</td>\n",
       "      <td>...</td>\n",
       "      <td>...</td>\n",
       "      <td>...</td>\n",
       "      <td>...</td>\n",
       "    </tr>\n",
       "    <tr>\n",
       "      <th>227529055</th>\n",
       "      <td>宝安</td>\n",
       "      <td>4</td>\n",
       "      <td>2</td>\n",
       "      <td>93.59</td>\n",
       "      <td>high</td>\n",
       "      <td>28</td>\n",
       "      <td>1</td>\n",
       "      <td>1</td>\n",
       "      <td>21.9040</td>\n",
       "    </tr>\n",
       "    <tr>\n",
       "      <th>228996159</th>\n",
       "      <td>南山</td>\n",
       "      <td>4</td>\n",
       "      <td>2</td>\n",
       "      <td>207.75</td>\n",
       "      <td>high</td>\n",
       "      <td>31</td>\n",
       "      <td>1</td>\n",
       "      <td>1</td>\n",
       "      <td>22.1420</td>\n",
       "    </tr>\n",
       "    <tr>\n",
       "      <th>228971607</th>\n",
       "      <td>南山</td>\n",
       "      <td>3</td>\n",
       "      <td>1</td>\n",
       "      <td>331.76</td>\n",
       "      <td>middle</td>\n",
       "      <td>35</td>\n",
       "      <td>0</td>\n",
       "      <td>1</td>\n",
       "      <td>22.6067</td>\n",
       "    </tr>\n",
       "    <tr>\n",
       "      <th>228457745</th>\n",
       "      <td>南山</td>\n",
       "      <td>4</td>\n",
       "      <td>2</td>\n",
       "      <td>320.00</td>\n",
       "      <td>middle</td>\n",
       "      <td>26</td>\n",
       "      <td>0</td>\n",
       "      <td>1</td>\n",
       "      <td>23.4375</td>\n",
       "    </tr>\n",
       "    <tr>\n",
       "      <th>228507707</th>\n",
       "      <td>南山</td>\n",
       "      <td>5</td>\n",
       "      <td>2</td>\n",
       "      <td>227.30</td>\n",
       "      <td>high</td>\n",
       "      <td>46</td>\n",
       "      <td>0</td>\n",
       "      <td>1</td>\n",
       "      <td>26.3968</td>\n",
       "    </tr>\n",
       "  </tbody>\n",
       "</table>\n",
       "<p>16449 rows × 9 columns</p>\n",
       "</div>"
      ],
      "text/plain": [
       "           district  roomnum  hall    AREA C_floor  floor_num  school  subway  \\\n",
       "Unnamed: 0                                                                      \n",
       "228525652        龙华        2     2   79.20  middle          8       0       0   \n",
       "228525545        龙华        2     1   79.03  middle          6       0       0   \n",
       "228872761      大鹏新区        3     2   71.50  middle         15       0       0   \n",
       "228869853      大鹏新区        3     2   70.20     low         20       0       0   \n",
       "228251431        龙华        2     1   79.03  middle          6       0       0   \n",
       "...             ...      ...   ...     ...     ...        ...     ...     ...   \n",
       "227529055        宝安        4     2   93.59    high         28       1       1   \n",
       "228996159        南山        4     2  207.75    high         31       1       1   \n",
       "228971607        南山        3     1  331.76  middle         35       0       1   \n",
       "228457745        南山        4     2  320.00  middle         26       0       1   \n",
       "228507707        南山        5     2  227.30    high         46       0       1   \n",
       "\n",
       "            per_price  \n",
       "Unnamed: 0             \n",
       "228525652      1.0101  \n",
       "228525545      1.0123  \n",
       "228872761      1.0210  \n",
       "228869853      1.0256  \n",
       "228251431      1.0376  \n",
       "...               ...  \n",
       "227529055     21.9040  \n",
       "228996159     22.1420  \n",
       "228971607     22.6067  \n",
       "228457745     23.4375  \n",
       "228507707     26.3968  \n",
       "\n",
       "[16449 rows x 9 columns]"
      ]
     },
     "execution_count": 10,
     "metadata": {},
     "output_type": "execute_result"
    }
   ],
   "source": [
    "dist_dict = {'longgang':'龙岗','longhua':'龙华',\n",
    "             'baoan':'宝安','nanshan':'南山',\n",
    "             'futian':'福田','luohu':'罗湖',\n",
    "             'pingshan':'坪山','guangming':'光明',\n",
    "             'yantian':'盐田','dapengxinqu':'大鹏新区'}\n",
    "data['district'] = data['district'].map(dist_dict)\n",
    "data"
   ]
  },
  {
   "attachments": {},
   "cell_type": "markdown",
   "metadata": {},
   "source": [
    "# 房源单价的分布情况"
   ]
  },
  {
   "cell_type": "code",
   "execution_count": 11,
   "metadata": {},
   "outputs": [
    {
     "data": {
      "text/plain": [
       "Text(0.5, 1.0, '平米单价直方图')"
      ]
     },
     "execution_count": 11,
     "metadata": {},
     "output_type": "execute_result"
    },
    {
     "data": {
      "image/png": "[encoded data removed]",
      "text/plain": [
       "<Figure size 432x288 with 1 Axes>"
      ]
     },
     "metadata": {
      "needs_background": "light"
     },
     "output_type": "display_data"
    }
   ],
   "source": [
    "# 直方图\n",
    "plt.rcParams['font.sans-serif'] = ['SimHei']\n",
    "plt.rcParams['axes.unicode_minus'] = False\n",
    "data.columns=['区域','房间数','厅数','面积','楼层位置',\n",
    "              '楼层数','是否是学区房','地铁','平米单价'] # 修改列名\n",
    "plt.hist(data['平米单价'],bins=20)\n",
    "plt.xlabel('平米单价')\n",
    "plt.title('平米单价直方图')"
   ]
  },
  {
   "attachments": {},
   "cell_type": "markdown",
   "metadata": {},
   "source": [
    "# 各区域的房源占比"
   ]
  },
  {
   "cell_type": "code",
   "execution_count": 12,
   "metadata": {},
   "outputs": [
    {
     "data": {
      "text/plain": [
       "Text(0.5, 1.0, '各区域饼状图')"
      ]
     },
     "execution_count": 12,
     "metadata": {},
     "output_type": "execute_result"
    },
    {
     "data": {
      "image/png": "[encoded data removed]",
      "text/plain": [
       "<Figure size 576x576 with 1 Axes>"
      ]
     },
     "metadata": {},
     "output_type": "display_data"
    }
   ],
   "source": [
    "# 饼状图\n",
    "data.groupby('区域')['房间数'].count()\n",
    "ans1 = data[['区域','房间数']].groupby('区域').count()\n",
    "# 白色背景\n",
    "plt.figure(figsize=(8,8),facecolor='white')\n",
    "plt.pie(ans1['房间数'],labels=ans1.index,autopct='%.2f%%')\n",
    "plt.title('各区域饼状图')"
   ]
  },
  {
   "cell_type": "code",
   "execution_count": 13,
   "metadata": {},
   "outputs": [
    {
     "data": {
      "text/plain": [
       "Text(0.5, 1.0, '各区域饼状图')"
      ]
     },
     "execution_count": 13,
     "metadata": {},
     "output_type": "execute_result"
    },
    {
     "data": {
      "image/png": "[encoded data removed]",
      "text/plain": [
       "<Figure size 576x576 with 1 Axes>"
      ]
     },
     "metadata": {},
     "output_type": "display_data"
    }
   ],
   "source": [
    "ans = data['区域'].value_counts()\n",
    "colors = ['#B5CADC','#6CA2DA','#E1E0D9','#909BB0','#5474AE',\n",
    "       '#B6C2AC','#417BD3','#CDE5EC','#A9BDC0','#909BB0']\n",
    "plt.figure(figsize=(8,8),facecolor='white')\n",
    "plt.pie(ans.values,labels=ans.index,autopct='%.2f%%',colors=colors)\n",
    "plt.title('各区域饼状图')"
   ]
  },
  {
   "attachments": {},
   "cell_type": "markdown",
   "metadata": {},
   "source": [
    "# 各区域房价分布"
   ]
  },
  {
   "cell_type": "code",
   "execution_count": 14,
   "metadata": {},
   "outputs": [
    {
     "name": "stdout",
     "output_type": "stream",
     "text": [
      "            区域  房间数  厅数      面积    楼层位置  楼层数  是否是学区房  地铁     平米单价\n",
      "Unnamed: 0                                                       \n",
      "228525652   龙华    2   2   79.20  middle    8       0   0   1.0101\n",
      "228525545   龙华    2   1   79.03  middle    6       0   0   1.0123\n",
      "228251431   龙华    2   1   79.03  middle    6       0   0   1.0376\n",
      "228449030   龙华    2   2   68.30  middle   15       0   1   1.4348\n",
      "227336478   龙华    3   2   88.70  middle   25       0   1   2.0744\n",
      "...         ..  ...  ..     ...     ...  ...     ...  ..      ...\n",
      "228648664   龙华    3   2   88.20    high   33       1   1  12.6984\n",
      "228947359   龙华    4   2   89.30     low   31       1   1  12.8779\n",
      "228940116   龙华    4   2   89.26     low   31       1   1  12.8837\n",
      "227375364   龙华    3   1  104.00     low   31       1   1  13.2692\n",
      "228924084   龙华    3   2   87.50  middle   28       1   1  13.4857\n",
      "\n",
      "[1805 rows x 9 columns]\n",
      "              区域  房间数  厅数     面积    楼层位置  楼层数  是否是学区房  地铁     平米单价\n",
      "Unnamed: 0                                                        \n",
      "228872761   大鹏新区    3   2   71.5  middle   15       0   0   1.0210\n",
      "228869853   大鹏新区    3   2   70.2     low   20       0   0   1.0256\n",
      "228909113   大鹏新区    3   2   69.0     low   18       0   0   1.1304\n",
      "228523757   大鹏新区    3   2   83.9     low   17       0   0   1.1561\n",
      "228893671   大鹏新区    3   2   89.0  middle   12       0   0   1.1798\n",
      "...          ...  ...  ..    ...     ...  ...     ...  ..      ...\n",
      "226888543   大鹏新区    8   3  195.0    high    3       0   0   7.6923\n",
      "228785131   大鹏新区    6   3  193.0    high    1       0   0   8.0725\n",
      "228407807   大鹏新区    3   2  193.0     low    4       0   0   8.2280\n",
      "228871288   大鹏新区    6   4  205.0    high    4       0   0   8.2927\n",
      "227784899   大鹏新区    9   3  265.0     low    5       0   0  10.1887\n",
      "\n",
      "[591 rows x 9 columns]\n",
      "            区域  房间数  厅数      面积    楼层位置  楼层数  是否是学区房  地铁     平米单价\n",
      "Unnamed: 0                                                       \n",
      "228363352   坪山    2   1   60.00  middle   15       1   0   1.0833\n",
      "228832539   坪山    3   2  102.00  middle    8       1   0   1.3725\n",
      "228652067   坪山    2   2   73.10  middle   25       1   0   1.5732\n",
      "228920518   坪山    3   2   81.94  middle   33       1   0   1.5743\n",
      "228734052   坪山    2   1   63.20  middle   33       1   0   1.5744\n",
      "...         ..  ...  ..     ...     ...  ...     ...  ..      ...\n",
      "228708815   坪山    3   2  108.00  middle   45       0   0   8.9352\n",
      "228991897   坪山    2   2   64.00  middle   45       0   0   9.0312\n",
      "228180927   坪山    4   2  121.16    high    1       1   0   9.4916\n",
      "228980210   坪山    6   2   84.34    high   32       1   0  10.1968\n",
      "228995551   坪山    5   3  440.00     low   45       0   0  10.2682\n",
      "\n",
      "[2076 rows x 9 columns]\n",
      "            区域  房间数  厅数     面积    楼层位置  楼层数  是否是学区房  地铁    平米单价\n",
      "Unnamed: 0                                                     \n",
      "226732600   光明    3   2   92.0  middle   32       0   0  1.1196\n",
      "228797338   光明    3   2   89.0  middle   28       0   0  1.1236\n",
      "226604285   光明    3   2   78.0  middle   20       0   0  1.1282\n",
      "227662517   光明    3   2   93.0     low   27       0   0  1.1290\n",
      "226029803   光明    3   2   75.0  middle   16       0   0  1.1333\n",
      "...         ..  ...  ..    ...     ...  ...     ...  ..     ...\n",
      "227003230   光明    4   2   88.6    high   32       1   0  6.9853\n",
      "227430980   光明    6   3  258.0    high    1       1   0  7.0543\n",
      "228792834   光明    4   2   88.5  middle   32       1   0  7.1412\n",
      "228428044   光明    3   2   82.5     low   16       1   0  7.1515\n",
      "227222003   光明    3   2   89.0     low   36       0   0  7.1910\n",
      "\n",
      "[1643 rows x 9 columns]\n",
      "            区域  房间数  厅数      面积    楼层位置  楼层数  是否是学区房  地铁     平米单价\n",
      "Unnamed: 0                                                       \n",
      "228837977   罗湖    2   2   79.00    high   17       0   0   1.1266\n",
      "228774981   罗湖    3   2   78.00    high   10       0   0   1.1282\n",
      "228654813   罗湖    3   2   88.50  middle   23       0   0   1.1525\n",
      "228838053   罗湖    2   2   78.00  middle   11       0   0   1.1538\n",
      "228747092   罗湖    3   2   89.50     low   29       0   1   1.2514\n",
      "...         ..  ...  ..     ...     ...  ...     ...  ..      ...\n",
      "228595514   罗湖    1   1   26.00     low   31       1   1  14.6154\n",
      "227538209   罗湖    1   1   30.60     low   31       1   1  15.0327\n",
      "227368655   罗湖    5   2   73.16    high   26       1   1  15.7190\n",
      "228983955   罗湖    6   3  157.78    high   26       1   1  15.8448\n",
      "227887016   罗湖    7   3  157.43    high   26       1   1  15.8801\n",
      "\n",
      "[2931 rows x 9 columns]\n",
      "            区域  房间数  厅数      面积    楼层位置  楼层数  是否是学区房  地铁     平米单价\n",
      "Unnamed: 0                                                       \n",
      "228564092   宝安    3   2   98.90  middle   26       0   0   1.1931\n",
      "228817937   宝安    3   2   89.00  middle   26       0   0   1.2247\n",
      "227993537   宝安    3   2  110.00  middle   33       0   0   1.5909\n",
      "228775378   宝安    2   2   75.00    high    7       0   1   1.6667\n",
      "228074380   宝安    2   1   89.00  middle   16       0   0   1.6854\n",
      "...         ..  ...  ..     ...     ...  ...     ...  ..      ...\n",
      "227376541   宝安    3   2  113.60  middle   31       1   1  16.5493\n",
      "227528188   宝安    4   2   93.59    high   28       1   1  19.2328\n",
      "228980680   宝安    1   1   21.95  middle   22       1   1  19.3622\n",
      "228074245   宝安    8   2  248.99     low    7       1   1  21.2860\n",
      "227529055   宝安    4   2   93.59    high   28       1   1  21.9040\n",
      "\n",
      "[1180 rows x 9 columns]\n",
      "            区域  房间数  厅数      面积    楼层位置  楼层数  是否是学区房  地铁     平米单价\n",
      "Unnamed: 0                                                       \n",
      "228099499   南山    3   2  110.00  middle    7       1   1   1.3182\n",
      "228993400   南山    2   2   53.00     low   40       1   1   1.4906\n",
      "228824982   南山    2   1   60.50  middle    9       1   1   1.5372\n",
      "228521150   南山    3   2   89.00     low   30       1   1   1.6854\n",
      "228819824   南山    2   2   65.20  middle   15       0   0   1.6871\n",
      "...         ..  ...  ..     ...     ...  ...     ...  ..      ...\n",
      "228678818   南山    3   1  331.76  middle   35       0   1  21.8682\n",
      "228996159   南山    4   2  207.75    high   31       1   1  22.1420\n",
      "228971607   南山    3   1  331.76  middle   35       0   1  22.6067\n",
      "228457745   南山    4   2  320.00  middle   26       0   1  23.4375\n",
      "228507707   南山    5   2  227.30    high   46       0   1  26.3968\n",
      "\n",
      "[2261 rows x 9 columns]\n",
      "            区域  房间数  厅数      面积    楼层位置  楼层数  是否是学区房  地铁     平米单价\n",
      "Unnamed: 0                                                       \n",
      "228820853   盐田    3   2   85.00    high   16       1   0   1.4353\n",
      "228873431   盐田    3   2   61.00  middle   25       0   0   1.4590\n",
      "224715895   盐田    3   2   80.00    high   16       1   0   1.5000\n",
      "228800409   盐田    3   2   77.00    high   19       0   0   1.7662\n",
      "228852350   盐田    3   2   77.00    high   19       0   0   1.9221\n",
      "...         ..  ...  ..     ...     ...  ...     ...  ..      ...\n",
      "228764167   盐田    5   2  178.00    high   36       0   0  11.2360\n",
      "228940538   盐田    4   2  223.29     low    5       1   0  13.4310\n",
      "227704024   盐田    5   3  353.35    high    1       0   0  15.5653\n",
      "228949559   盐田    5   2  101.00    high   32       0   0  15.8416\n",
      "228303541   盐田    8   3  377.00    high    3       0   0  15.9151\n",
      "\n",
      "[1331 rows x 9 columns]\n",
      "            区域  房间数  厅数      面积    楼层位置  楼层数  是否是学区房  地铁     平米单价\n",
      "Unnamed: 0                                                       \n",
      "228775181   福田    2   2   60.00    high   29       1   1   1.4667\n",
      "228550429   福田    3   2   87.60     low   33       0   0   1.7352\n",
      "228818364   福田    3   2   84.40     low   31       1   1   1.9431\n",
      "228893601   福田    2   2   77.00  middle   31       0   1   2.1818\n",
      "223042227   福田    3   1  110.00  middle   30       0   1   3.9091\n",
      "...         ..  ...  ..     ...     ...  ...     ...  ..      ...\n",
      "226868122   福田    4   2  105.00    high   20       1   1  18.5714\n",
      "228965036   福田    1   0   31.80    high   32       1   1  18.7107\n",
      "228317715   福田    4   2  237.40    high   14       1   1  19.2923\n",
      "228973020   福田    6   4  272.30     low    6       1   1  19.4638\n",
      "227829238   福田    4   2   85.23     low   25       1   1  19.7114\n",
      "\n",
      "[1220 rows x 9 columns]\n",
      "            区域  房间数  厅数      面积    楼层位置  楼层数  是否是学区房  地铁    平米单价\n",
      "Unnamed: 0                                                      \n",
      "228376196   龙岗    1   1   36.50     low   23       0   1  2.4658\n",
      "228917314   龙岗    1   1   48.02    high   11       1   0  2.6656\n",
      "228043808   龙岗    2   1   36.00  middle    8       1   0  2.6667\n",
      "228678930   龙岗    3   2   79.20  middle   32       0   0  2.6768\n",
      "228454302   龙岗    3   2   81.80    high   32       0   0  2.6895\n",
      "...         ..  ...  ..     ...     ...  ...     ...  ..     ...\n",
      "227312679   龙岗    3   2   67.50  middle   31       1   0  8.3704\n",
      "228596328   龙岗    4   2   87.95    high   48       0   0  8.4139\n",
      "228824682   龙岗    4   1  104.64     low    8       1   1  9.0787\n",
      "227920597   龙岗    6   2  269.22  middle   10       1   1  9.2861\n",
      "228709171   龙岗    5   2  100.24    high   38       1   1  9.4274\n",
      "\n",
      "[1411 rows x 9 columns]\n"
     ]
    }
   ],
   "source": [
    "# 箱线图\n",
    "# 先分割不同区域的数据\n",
    "for i in data['区域'].unique():\n",
    "    index = data['区域']==i\n",
    "    print(data.loc[index,:])"
   ]
  },
  {
   "cell_type": "code",
   "execution_count": 15,
   "metadata": {},
   "outputs": [
    {
     "data": {
      "text/plain": [
       "[array([ 1.0101,  1.0123,  1.0376, ..., 12.8837, 13.2692, 13.4857]),\n",
       " array([ 1.021 ,  1.0256,  1.1304,  1.1561,  1.1798,  1.2353,  1.25  ,\n",
       "         1.2892,  1.8857,  1.9556,  2.0444,  2.0862,  2.1667,  2.1905,\n",
       "         2.2519,  2.2647,  2.268 ,  2.2682,  2.2785,  2.2941,  2.3012,\n",
       "         2.3082,  2.3134,  2.3205,  2.3206,  2.3226,  2.3318,  2.3341,\n",
       "         2.3684,  2.3987,  2.4051,  2.4175,  2.4299,  2.4304,  2.44  ,\n",
       "         2.44  ,  2.4468,  2.4485,  2.4518,  2.4638,  2.4732,  2.4742,\n",
       "         2.4931,  2.5059,  2.5105,  2.5294,  2.534 ,  2.5364,  2.5506,\n",
       "         2.5518,  2.5534,  2.56  ,  2.5647,  2.5676,  2.568 ,  2.5773,\n",
       "         2.5773,  2.5851,  2.5873,  2.5882,  2.6   ,  2.6   ,  2.6   ,\n",
       "         2.6   ,  2.6019,  2.6034,  2.6087,  2.6097,  2.6124,  2.6235,\n",
       "         2.6273,  2.6327,  2.6333,  2.6382,  2.6403,  2.6435,  2.6563,\n",
       "         2.6575,  2.6575,  2.6576,  2.6582,  2.6582,  2.6596,  2.66  ,\n",
       "         2.6667,  2.6667,  2.6757,  2.6757,  2.686 ,  2.6874,  2.696 ,\n",
       "         2.701 ,  2.7019,  2.7022,  2.7027,  2.7039,  2.7045,  2.7059,\n",
       "         2.706 ,  2.7085,  2.7136,  2.7143,  2.718 ,  2.7184,  2.7184,\n",
       "         2.7184,  2.7234,  2.7273,  2.7275,  2.7277,  2.728 ,  2.7287,\n",
       "         2.7297,  2.735 ,  2.7388,  2.7446,  2.75  ,  2.75  ,  2.7511,\n",
       "         2.7527,  2.7586,  2.7641,  2.766 ,  2.7683,  2.7698,  2.7745,\n",
       "         2.7767,  2.7767,  2.7835,  2.7848,  2.7869,  2.7922,  2.7951,\n",
       "         2.7961,  2.7961,  2.7961,  2.7961,  2.8   ,  2.8022,  2.8039,\n",
       "         2.8057,  2.8107,  2.8146,  2.8146,  2.8155,  2.8155,  2.8171,\n",
       "         2.8182,  2.8185,  2.8214,  2.8226,  2.8233,  2.833 ,  2.8333,\n",
       "         2.8333,  2.8333,  2.835 ,  2.835 ,  2.8415,  2.8447,  2.846 ,\n",
       "         2.8495,  2.8511,  2.8571,  2.8596,  2.8602,  2.8641,  2.8641,\n",
       "         2.8671,  2.8699,  2.8721,  2.8736,  2.8758,  2.8767,  2.8767,\n",
       "         2.8817,  2.8884,  2.8929,  2.8932,  2.8932,  2.8932,  2.9   ,\n",
       "         2.9029,  2.9032,  2.9041,  2.9043,  2.9087,  2.9114,  2.9114,\n",
       "         2.9114,  2.9114,  2.9116,  2.9118,  2.9126,  2.9126,  2.9126,\n",
       "         2.9126,  2.9126,  2.9128,  2.9167,  2.9167,  2.9167,  2.9167,\n",
       "         2.918 ,  2.9204,  2.9233,  2.9294,  2.9309,  2.932 ,  2.9359,\n",
       "         2.9375,  2.9464,  2.9487,  2.9487,  2.9487,  2.9487,  2.9536,\n",
       "         2.9545,  2.9545,  2.9563,  2.957 ,  2.9574,  2.9574,  2.9612,\n",
       "         2.9628,  2.966 ,  2.967 ,  2.9677,  2.9684,  2.9734,  2.9747,\n",
       "         2.9747,  2.9763,  2.9787,  2.9787,  2.9787,  2.9787,  2.9787,\n",
       "         2.9787,  2.9833,  2.9872,  2.9891,  2.9892,  2.9892,  2.9894,\n",
       "         2.9894,  2.991 ,  2.991 ,  2.9911,  2.9915,  2.9915,  2.9917,\n",
       "         2.9981,  3.    ,  3.    ,  3.    ,  3.    ,  3.    ,  3.    ,\n",
       "         3.0083,  3.0097,  3.0097,  3.0097,  3.0097,  3.0108,  3.0127,\n",
       "         3.0156,  3.0161,  3.0167,  3.0168,  3.0179,  3.0294,  3.0319,\n",
       "         3.0319,  3.033 ,  3.035 ,  3.0353,  3.0357,  3.0417,  3.0417,\n",
       "         3.0426,  3.0426,  3.043 ,  3.0467,  3.0526,  3.0532,  3.0537,\n",
       "         3.0549,  3.0565,  3.0575,  3.0583,  3.0583,  3.0583,  3.0592,\n",
       "         3.0598,  3.0638,  3.0638,  3.0645,  3.0697,  3.0723,  3.0723,\n",
       "         3.0723,  3.0733,  3.0742,  3.0745,  3.0745,  3.0745,  3.0754,\n",
       "         3.0761,  3.0764,  3.0769,  3.0769,  3.0769,  3.0807,  3.0822,\n",
       "         3.0835,  3.0851,  3.0851,  3.0851,  3.0851,  3.0851,  3.0851,\n",
       "         3.086 ,  3.0866,  3.0868,  3.0874,  3.0874,  3.0899,  3.0909,\n",
       "         3.0911,  3.0927,  3.0936,  3.0945,  3.0968,  3.0968,  3.0971,\n",
       "         3.1019,  3.1034,  3.1034,  3.1054,  3.1068,  3.1068,  3.1068,\n",
       "         3.1068,  3.1068,  3.1068,  3.1068,  3.1116,  3.117 ,  3.1183,\n",
       "         3.1215,  3.125 ,  3.125 ,  3.1319,  3.1383,  3.1461,  3.1489,\n",
       "         3.1489,  3.1522,  3.1553,  3.1584,  3.1635,  3.1636,  3.1667,\n",
       "         3.1667,  3.1709,  3.172 ,  3.172 ,  3.172 ,  3.172 ,  3.1722,\n",
       "         3.1741,  3.1786,  3.1809,  3.1845,  3.1846,  3.1867,  3.1902,\n",
       "         3.1915,  3.1915,  3.1915,  3.1915,  3.1915,  3.1915,  3.1917,\n",
       "         3.1928,  3.1942,  3.1944,  3.1964,  3.1967,  3.1984,  3.2   ,\n",
       "         3.2039,  3.2039,  3.2039,  3.2043,  3.2116,  3.2138,  3.2184,\n",
       "         3.2186,  3.2186,  3.2192,  3.2199,  3.2257,  3.2258,  3.2258,\n",
       "         3.2427,  3.2473,  3.2479,  3.25  ,  3.25  ,  3.2513,  3.2524,\n",
       "         3.2547,  3.255 ,  3.2621,  3.2727,  3.2742,  3.2746,  3.2816,\n",
       "         3.2816,  3.2835,  3.2903,  3.2967,  3.2979,  3.2979,  3.2979,\n",
       "         3.2979,  3.2979,  3.2979,  3.2979,  3.2979,  3.3   ,  3.303 ,\n",
       "         3.3097,  3.3111,  3.3167,  3.3187,  3.3241,  3.3312,  3.3333,\n",
       "         3.3333,  3.3333,  3.3404,  3.3511,  3.3511,  3.3521,  3.3626,\n",
       "         3.3708,  3.3723,  3.3758,  3.38  ,  3.3846,  3.3978,  3.4043,\n",
       "         3.4043,  3.4066,  3.4091,  3.4103,  3.4115,  3.4175,  3.4188,\n",
       "         3.4211,  3.4211,  3.4247,  3.4262,  3.4286,  3.4409,  3.4409,\n",
       "         3.4545,  3.4568,  3.4615,  3.4831,  3.4831,  3.4932,  3.4932,\n",
       "         3.4932,  3.4951,  3.5   ,  3.5   ,  3.5049,  3.5165,  3.5237,\n",
       "         3.5294,  3.5342,  3.5385,  3.5393,  3.5422,  3.5437,  3.5484,\n",
       "         3.5503,  3.5537,  3.555 ,  3.5595,  3.5616,  3.5616,  3.5616,\n",
       "         3.5754,  3.5763,  3.5833,  3.5955,  3.6067,  3.6145,  3.6199,\n",
       "         3.622 ,  3.6364,  3.6459,  3.6463,  3.6872,  3.6963,  3.6969,\n",
       "         3.7079,  3.71  ,  3.7139,  3.7185,  3.7195,  3.7246,  3.7313,\n",
       "         3.7356,  3.7844,  3.7887,  3.8387,  3.8462,  3.8483,  3.869 ,\n",
       "         3.8764,  3.8764,  3.8828,  3.885 ,  3.8889,  3.8932,  3.9106,\n",
       "         3.9326,  3.957 ,  4.0046,  4.0107,  4.0184,  4.0185,  4.0223,\n",
       "         4.0449,  4.0523,  4.0536,  4.0678,  4.0715,  4.1237,  4.1303,\n",
       "         4.1573,  4.2153,  4.2235,  4.2247,  4.2697,  4.3077,  4.382 ,\n",
       "         4.3842,  4.4719,  4.5312,  4.5503,  4.6296,  4.7059,  4.8732,\n",
       "         5.1231,  5.1762,  5.2408,  5.4634,  5.5   ,  5.5417,  5.5556,\n",
       "         5.801 ,  5.8537,  6.0976,  6.0976,  6.2201,  6.3107,  6.3285,\n",
       "         6.3415,  6.6341,  6.6667,  6.8425,  7.0829,  7.2251,  7.3171,\n",
       "         7.3171,  7.3415,  7.3469,  7.5521,  7.6923,  7.6923,  8.0725,\n",
       "         8.228 ,  8.2927, 10.1887]),\n",
       " array([ 1.0833,  1.3725,  1.5732, ...,  9.4916, 10.1968, 10.2682]),\n",
       " array([1.1196, 1.1236, 1.1282, ..., 7.1412, 7.1515, 7.191 ]),\n",
       " array([ 1.1266,  1.1282,  1.1525, ..., 15.719 , 15.8448, 15.8801]),\n",
       " array([ 1.1931,  1.2247,  1.5909, ..., 19.3622, 21.286 , 21.904 ]),\n",
       " array([ 1.3182,  1.4906,  1.5372, ..., 22.6067, 23.4375, 26.3968]),\n",
       " array([ 1.4353,  1.459 ,  1.5   , ..., 15.5653, 15.8416, 15.9151]),\n",
       " array([ 1.4667,  1.7352,  1.9431, ..., 19.2923, 19.4638, 19.7114]),\n",
       " array([2.4658, 2.6656, 2.6667, ..., 9.0787, 9.2861, 9.4274])]"
      ]
     },
     "execution_count": 15,
     "metadata": {},
     "output_type": "execute_result"
    }
   ],
   "source": [
    "[data.loc[data['区域']==i,'平米单价'].values for i in data['区域'].unique()]"
   ]
  },
  {
   "cell_type": "code",
   "execution_count": 16,
   "metadata": {},
   "outputs": [
    {
     "data": {
      "text/plain": [
       "{'区域': 0,\n",
       " '房间数': 1,\n",
       " '厅数': 2,\n",
       " '面积': 3,\n",
       " '楼层位置': 4,\n",
       " '楼层数': 5,\n",
       " '是否是学区房': 6,\n",
       " '地铁': 7,\n",
       " '平米单价': 8}"
      ]
     },
     "execution_count": 16,
     "metadata": {},
     "output_type": "execute_result"
    }
   ],
   "source": [
    "{item:i for i,item in enumerate(data.columns)}"
   ]
  },
  {
   "cell_type": "code",
   "execution_count": 17,
   "metadata": {},
   "outputs": [
    {
     "data": {
      "text/plain": [
       "array(['龙华', '大鹏新区', '坪山', '光明', '罗湖', '宝安', '南山', '盐田', '福田', '龙岗'],\n",
       "      dtype=object)"
      ]
     },
     "execution_count": 17,
     "metadata": {},
     "output_type": "execute_result"
    }
   ],
   "source": [
    "data['区域'].unique()"
   ]
  },
  {
   "cell_type": "code",
   "execution_count": 18,
   "metadata": {},
   "outputs": [
    {
     "data": {
      "text/plain": [
       "Text(0.5, 1.0, '各区域箱线图')"
      ]
     },
     "execution_count": 18,
     "metadata": {},
     "output_type": "execute_result"
    },
    {
     "data": {
      "image/png": "[encoded data removed]",
      "text/plain": [
       "<Figure size 432x288 with 1 Axes>"
      ]
     },
     "metadata": {
      "needs_background": "light"
     },
     "output_type": "display_data"
    }
   ],
   "source": [
    "ans = []\n",
    "for i in data['区域'].unique():\n",
    "    ans.append(data.loc[data['区域']==i,'平米单价'].values)\n",
    "\n",
    "boxplot_data = [data.loc[data['区域']==i,'平米单价'].values for i in data['区域'].unique()]\n",
    "plt.boxplot(boxplot_data,labels=data['区域'].unique())\n",
    "plt.title('各区域箱线图')"
   ]
  },
  {
   "cell_type": "code",
   "execution_count": 22,
   "metadata": {},
   "outputs": [
    {
     "data": {
      "text/plain": [
       "Text(0.5, 1.0, '各区域箱线图')"
      ]
     },
     "execution_count": 22,
     "metadata": {},
     "output_type": "execute_result"
    },
    {
     "data": {
      "image/png": "[encoded data removed]",
      "text/plain": [
       "<Figure size 432x288 with 1 Axes>"
      ]
     },
     "metadata": {
      "needs_background": "light"
     },
     "output_type": "display_data"
    }
   ],
   "source": [
    "plt.grid()\n",
    "plt.boxplot([data.loc[data['区域']==i,'平米单价'].values for i in data['区域'].unique()],\n",
    "            labels=data['区域'].unique(),\n",
    "            sym=\"+\")\n",
    "plt.title('各区域箱线图')"
   ]
  },
  {
   "attachments": {},
   "cell_type": "markdown",
   "metadata": {},
   "source": [
    "# 不同房间数的房价分布情况"
   ]
  },
  {
   "cell_type": "code",
   "execution_count": 23,
   "metadata": {},
   "outputs": [
    {
     "data": {
      "text/plain": [
       "array([2, 3, 1, 4, 5, 6, 7, 8, 9], dtype=int64)"
      ]
     },
     "execution_count": 23,
     "metadata": {},
     "output_type": "execute_result"
    }
   ],
   "source": [
    "data['房间数'].unique()"
   ]
  },
  {
   "cell_type": "code",
   "execution_count": 24,
   "metadata": {},
   "outputs": [
    {
     "data": {
      "text/plain": [
       "Text(0.5, 1.0, '不同房间数的房价分布情况')"
      ]
     },
     "execution_count": 24,
     "metadata": {},
     "output_type": "execute_result"
    },
    {
     "data": {
      "image/png": "[encoded data removed]",
      "text/plain": [
       "<Figure size 432x288 with 1 Axes>"
      ]
     },
     "metadata": {
      "needs_background": "light"
     },
     "output_type": "display_data"
    }
   ],
   "source": [
    "room_list = [i for i in range(1,10)]\n",
    "plt.grid()\n",
    "plt.boxplot([data.loc[data['房间数']==i,'平米单价'].values for i in room_list],sym='+')\n",
    "plt.title('不同房间数的房价分布情况')"
   ]
  },
  {
   "cell_type": "code",
   "execution_count": 25,
   "metadata": {},
   "outputs": [
    {
     "data": {
      "text/plain": [
       "Text(0.5, 1.0, '不同房间数的房价分布情况')"
      ]
     },
     "execution_count": 25,
     "metadata": {},
     "output_type": "execute_result"
    },
    {
     "data": {
      "image/png": "[encoded data removed]",
      "text/plain": [
       "<Figure size 432x288 with 1 Axes>"
      ]
     },
     "metadata": {
      "needs_background": "light"
     },
     "output_type": "display_data"
    }
   ],
   "source": [
    "plt.grid()\n",
    "plt.boxplot([data.loc[data['房间数']==i,'平米单价'].values for i in room_list],sym='+')\n",
    "plt.title('不同房间数的房价分布情况')"
   ]
  },
  {
   "cell_type": "code",
   "execution_count": 28,
   "metadata": {},
   "outputs": [
    {
     "ename": "ValueError",
     "evalue": "shape mismatch: objects cannot be broadcast to a single shape",
     "output_type": "error",
     "traceback": [
      "\u001b[1;31m---------------------------------------------------------------------------\u001b[0m",
      "\u001b[1;31mValueError\u001b[0m                                Traceback (most recent call last)",
      "\u001b[1;32md:\\vscode\\pythonTest\\2homework1\\1.ipynb 单元格 28\u001b[0m in \u001b[0;36m<cell line: 13>\u001b[1;34m()\u001b[0m\n\u001b[0;32m     <a href='vscode-notebook-cell:/d%3A/vscode/pythonTest/2homework1/1.ipynb#X41sZmlsZQ%3D%3D?line=10'>11</a>\u001b[0m ax\u001b[39m.\u001b[39mset_ylabel(\u001b[39m'\u001b[39m\u001b[39m房源数量\u001b[39m\u001b[39m'\u001b[39m)\n\u001b[0;32m     <a href='vscode-notebook-cell:/d%3A/vscode/pythonTest/2homework1/1.ipynb#X41sZmlsZQ%3D%3D?line=11'>12</a>\u001b[0m ax1 \u001b[39m=\u001b[39m ax\u001b[39m.\u001b[39mtwinx() \u001b[39m# 两个子图共享x轴\u001b[39;00m\n\u001b[1;32m---> <a href='vscode-notebook-cell:/d%3A/vscode/pythonTest/2homework1/1.ipynb#X41sZmlsZQ%3D%3D?line=12'>13</a>\u001b[0m ax1\u001b[39m.\u001b[39;49mbar(np\u001b[39m.\u001b[39;49marange(\u001b[39m10\u001b[39;49m)\u001b[39m+\u001b[39;49m\u001b[39m0.2\u001b[39;49m,ans1\u001b[39m.\u001b[39;49mvalues,width\u001b[39m=\u001b[39;49m\u001b[39m0.4\u001b[39;49m,color\u001b[39m=\u001b[39;49m\u001b[39m'\u001b[39;49m\u001b[39m#ff8700\u001b[39;49m\u001b[39m'\u001b[39;49m)\n\u001b[0;32m     <a href='vscode-notebook-cell:/d%3A/vscode/pythonTest/2homework1/1.ipynb#X41sZmlsZQ%3D%3D?line=13'>14</a>\u001b[0m ax1\u001b[39m.\u001b[39mset_ylabel(\u001b[39m'\u001b[39m\u001b[39m房源均价\u001b[39m\u001b[39m'\u001b[39m)\n\u001b[0;32m     <a href='vscode-notebook-cell:/d%3A/vscode/pythonTest/2homework1/1.ipynb#X41sZmlsZQ%3D%3D?line=15'>16</a>\u001b[0m plt\u001b[39m.\u001b[39mtitle(\u001b[39m'\u001b[39m\u001b[39m各区域房源数量和均价\u001b[39m\u001b[39m'\u001b[39m)\n",
      "File \u001b[1;32mc:\\Users\\31815\\anaconda3\\lib\\site-packages\\matplotlib\\__init__.py:1412\u001b[0m, in \u001b[0;36m_preprocess_data.<locals>.inner\u001b[1;34m(ax, data, *args, **kwargs)\u001b[0m\n\u001b[0;32m   1409\u001b[0m \u001b[39m@functools\u001b[39m\u001b[39m.\u001b[39mwraps(func)\n\u001b[0;32m   1410\u001b[0m \u001b[39mdef\u001b[39;00m \u001b[39minner\u001b[39m(ax, \u001b[39m*\u001b[39margs, data\u001b[39m=\u001b[39m\u001b[39mNone\u001b[39;00m, \u001b[39m*\u001b[39m\u001b[39m*\u001b[39mkwargs):\n\u001b[0;32m   1411\u001b[0m     \u001b[39mif\u001b[39;00m data \u001b[39mis\u001b[39;00m \u001b[39mNone\u001b[39;00m:\n\u001b[1;32m-> 1412\u001b[0m         \u001b[39mreturn\u001b[39;00m func(ax, \u001b[39m*\u001b[39m\u001b[39mmap\u001b[39m(sanitize_sequence, args), \u001b[39m*\u001b[39m\u001b[39m*\u001b[39mkwargs)\n\u001b[0;32m   1414\u001b[0m     bound \u001b[39m=\u001b[39m new_sig\u001b[39m.\u001b[39mbind(ax, \u001b[39m*\u001b[39margs, \u001b[39m*\u001b[39m\u001b[39m*\u001b[39mkwargs)\n\u001b[0;32m   1415\u001b[0m     auto_label \u001b[39m=\u001b[39m (bound\u001b[39m.\u001b[39marguments\u001b[39m.\u001b[39mget(label_namer)\n\u001b[0;32m   1416\u001b[0m                   \u001b[39mor\u001b[39;00m bound\u001b[39m.\u001b[39mkwargs\u001b[39m.\u001b[39mget(label_namer))\n",
      "File \u001b[1;32mc:\\Users\\31815\\anaconda3\\lib\\site-packages\\matplotlib\\axes\\_axes.py:2342\u001b[0m, in \u001b[0;36mAxes.bar\u001b[1;34m(self, x, height, width, bottom, align, **kwargs)\u001b[0m\n\u001b[0;32m   2339\u001b[0m     \u001b[39mif\u001b[39;00m yerr \u001b[39mis\u001b[39;00m \u001b[39mnot\u001b[39;00m \u001b[39mNone\u001b[39;00m:\n\u001b[0;32m   2340\u001b[0m         yerr \u001b[39m=\u001b[39m \u001b[39mself\u001b[39m\u001b[39m.\u001b[39m_convert_dx(yerr, y0, y, \u001b[39mself\u001b[39m\u001b[39m.\u001b[39mconvert_yunits)\n\u001b[1;32m-> 2342\u001b[0m x, height, width, y, linewidth, hatch \u001b[39m=\u001b[39m np\u001b[39m.\u001b[39;49mbroadcast_arrays(\n\u001b[0;32m   2343\u001b[0m     \u001b[39m# Make args iterable too.\u001b[39;49;00m\n\u001b[0;32m   2344\u001b[0m     np\u001b[39m.\u001b[39;49matleast_1d(x), height, width, y, linewidth, hatch)\n\u001b[0;32m   2346\u001b[0m \u001b[39m# Now that units have been converted, set the tick locations.\u001b[39;00m\n\u001b[0;32m   2347\u001b[0m \u001b[39mif\u001b[39;00m orientation \u001b[39m==\u001b[39m \u001b[39m'\u001b[39m\u001b[39mvertical\u001b[39m\u001b[39m'\u001b[39m:\n",
      "File \u001b[1;32m<__array_function__ internals>:5\u001b[0m, in \u001b[0;36mbroadcast_arrays\u001b[1;34m(*args, **kwargs)\u001b[0m\n",
      "File \u001b[1;32mc:\\Users\\31815\\anaconda3\\lib\\site-packages\\numpy\\lib\\stride_tricks.py:538\u001b[0m, in \u001b[0;36mbroadcast_arrays\u001b[1;34m(subok, *args)\u001b[0m\n\u001b[0;32m    531\u001b[0m \u001b[39m# nditer is not used here to avoid the limit of 32 arrays.\u001b[39;00m\n\u001b[0;32m    532\u001b[0m \u001b[39m# Otherwise, something like the following one-liner would suffice:\u001b[39;00m\n\u001b[0;32m    533\u001b[0m \u001b[39m# return np.nditer(args, flags=['multi_index', 'zerosize_ok'],\u001b[39;00m\n\u001b[0;32m    534\u001b[0m \u001b[39m#                  order='C').itviews\u001b[39;00m\n\u001b[0;32m    536\u001b[0m args \u001b[39m=\u001b[39m [np\u001b[39m.\u001b[39marray(_m, copy\u001b[39m=\u001b[39m\u001b[39mFalse\u001b[39;00m, subok\u001b[39m=\u001b[39msubok) \u001b[39mfor\u001b[39;00m _m \u001b[39min\u001b[39;00m args]\n\u001b[1;32m--> 538\u001b[0m shape \u001b[39m=\u001b[39m _broadcast_shape(\u001b[39m*\u001b[39;49margs)\n\u001b[0;32m    540\u001b[0m \u001b[39mif\u001b[39;00m \u001b[39mall\u001b[39m(array\u001b[39m.\u001b[39mshape \u001b[39m==\u001b[39m shape \u001b[39mfor\u001b[39;00m array \u001b[39min\u001b[39;00m args):\n\u001b[0;32m    541\u001b[0m     \u001b[39m# Common case where nothing needs to be broadcasted.\u001b[39;00m\n\u001b[0;32m    542\u001b[0m     \u001b[39mreturn\u001b[39;00m args\n",
      "File \u001b[1;32mc:\\Users\\31815\\anaconda3\\lib\\site-packages\\numpy\\lib\\stride_tricks.py:420\u001b[0m, in \u001b[0;36m_broadcast_shape\u001b[1;34m(*args)\u001b[0m\n\u001b[0;32m    415\u001b[0m \u001b[39m\"\"\"Returns the shape of the arrays that would result from broadcasting the\u001b[39;00m\n\u001b[0;32m    416\u001b[0m \u001b[39msupplied arrays against each other.\u001b[39;00m\n\u001b[0;32m    417\u001b[0m \u001b[39m\"\"\"\u001b[39;00m\n\u001b[0;32m    418\u001b[0m \u001b[39m# use the old-iterator because np.nditer does not handle size 0 arrays\u001b[39;00m\n\u001b[0;32m    419\u001b[0m \u001b[39m# consistently\u001b[39;00m\n\u001b[1;32m--> 420\u001b[0m b \u001b[39m=\u001b[39m np\u001b[39m.\u001b[39;49mbroadcast(\u001b[39m*\u001b[39;49margs[:\u001b[39m32\u001b[39;49m])\n\u001b[0;32m    421\u001b[0m \u001b[39m# unfortunately, it cannot handle 32 or more arguments directly\u001b[39;00m\n\u001b[0;32m    422\u001b[0m \u001b[39mfor\u001b[39;00m pos \u001b[39min\u001b[39;00m \u001b[39mrange\u001b[39m(\u001b[39m32\u001b[39m, \u001b[39mlen\u001b[39m(args), \u001b[39m31\u001b[39m):\n\u001b[0;32m    423\u001b[0m     \u001b[39m# ironically, np.broadcast does not properly handle np.broadcast\u001b[39;00m\n\u001b[0;32m    424\u001b[0m     \u001b[39m# objects (it treats them as scalars)\u001b[39;00m\n\u001b[0;32m    425\u001b[0m     \u001b[39m# use broadcasting to avoid allocating the full array\u001b[39;00m\n",
      "\u001b[1;31mValueError\u001b[0m: shape mismatch: objects cannot be broadcast to a single shape"
     ]
    },
    {
     "data": {
      "image/png": "[encoded data removed]",
      "text/plain": [
       "<Figure size 432x288 with 2 Axes>"
      ]
     },
     "metadata": {
      "needs_background": "light"
     },
     "output_type": "display_data"
    }
   ],
   "source": [
    "ans1 = data.groupby(['区域','房间数'])['平米单价'].mean() #计算房子单价\n",
    "ans1.sort_index(inplace=True)\n",
    "\n",
    "ans = data['区域'].value_counts() # 统计房源数量\n",
    "ans.sort_index(inplace=True)\n",
    "\n",
    "Fig = plt.figure()\n",
    "ax= Fig.add_subplot(1,1,1) # 添加子图，和原图一样大\n",
    "ax.bar(np.arange(10)-0.2,ans.values,width=0.4)\n",
    "ax.set_xticks(np.arange(10),ans.index)\n",
    "ax.set_ylabel('房源数量')\n",
    "ax1 = ax.twinx() # 两个子图共享x轴\n",
    "ax1.bar(np.arange(10)+0.2,ans1.values,width=0.4,color='#ff8700')\n",
    "ax1.set_ylabel('房源均价')\n",
    "\n",
    "plt.title('各区域房源数量和均价')"
   ]
  },
  {
   "cell_type": "code",
   "execution_count": null,
   "metadata": {},
   "outputs": [],
   "source": []
  }
 ],
 "metadata": {
  "kernelspec": {
   "display_name": "base",
   "language": "python",
   "name": "python3"
  },
  "language_info": {
   "codemirror_mode": {
    "name": "ipython",
    "version": 3
   },
   "file_extension": ".py",
   "mimetype": "text/x-python",
   "name": "python",
   "nbconvert_exporter": "python",
   "pygments_lexer": "ipython3",
   "version": "3.9.12"
  },
  "orig_nbformat": 4,
  "vscode": {
   "interpreter": {
    "hash": "3bf3a4c08d772500fe80480d234fda284fcda7cd846a744588210699020a3931"
   }
  }
 },
 "nbformat": 4,
 "nbformat_minor": 2
}
