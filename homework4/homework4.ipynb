{
 "cells": [
  {
   "cell_type": "code",
   "execution_count": 1,
   "metadata": {},
   "outputs": [],
   "source": [
    "import re"
   ]
  },
  {
   "cell_type": "code",
   "execution_count": 3,
   "metadata": {},
   "outputs": [
    {
     "name": "stdout",
     "output_type": "stream",
     "text": [
      "Hello~1#World\n",
      "biubiubiu\n"
     ]
    }
   ],
   "source": [
    "# 1、字符串a为\"Hello\"，字符串b为\"~1#World\"。判断字符串b中是否含有“~1#”，如有，将字符串a与字符串b用连接起来输出。接着输出“biubiubiu”。\n",
    "a=\"Hello\"\n",
    "b=\"~1#World\"\n",
    "if re.search(\"~1#\",b):\n",
    "    print(a+b)\n",
    "print(\"biubiubiu\")\n"
   ]
  },
  {
   "cell_type": "code",
   "execution_count": 4,
   "metadata": {},
   "outputs": [
    {
     "name": "stdout",
     "output_type": "stream",
     "text": [
      "2\n",
      "12\n",
      "20\n",
      "21\n",
      "22\n",
      "23\n",
      "24\n",
      "25\n",
      "26\n",
      "27\n",
      "28\n",
      "29\n",
      "32\n",
      "42\n",
      "52\n",
      "62\n",
      "72\n",
      "82\n",
      "92\n"
     ]
    }
   ],
   "source": [
    "# 2、获取1-100间所有包含2的数字（2，12，20，21，22，32...）\n",
    "for i in range(1,101):\n",
    "    if re.search(\"2\",str(i)):\n",
    "        print(i)\n",
    "        "
   ]
  },
  {
   "cell_type": "code",
   "execution_count": 5,
   "metadata": {},
   "outputs": [
    {
     "name": "stdout",
     "output_type": "stream",
     "text": [
      "Alex\n"
     ]
    }
   ],
   "source": [
    "# 3、name=\"  Alex\"\n",
    "# a.  移除name变量对应的值两边的空格并输入移除后的内容\n",
    "# b.  判断 name 变量对应的值是否以 \"Al\" 开头并输出结果\n",
    "# c.  判断 name 变量对应的值是否以  \"X\"  结尾并输出结果\n",
    "# d.  将 name 变量对应的值中的 “l” 替换为“c”并输出结果\n",
    "# e.  将 name 变量对应的值根据 “l”分割并输出结果。\n",
    "# f.  将 name 变量对应的值变为大写并输出结果\n",
    "\n",
    "name=\"  Alex\"\n",
    "print(name.strip())"
   ]
  },
  {
   "cell_type": "code",
   "execution_count": 8,
   "metadata": {},
   "outputs": [
    {
     "name": "stdout",
     "output_type": "stream",
     "text": [
      "no\n"
     ]
    }
   ],
   "source": [
    "if(re.search(\"^Al\",name)):\n",
    "    print(\"yes\")\n",
    "else:\n",
    "    print(\"no\")"
   ]
  },
  {
   "cell_type": "code",
   "execution_count": 9,
   "metadata": {},
   "outputs": [
    {
     "name": "stdout",
     "output_type": "stream",
     "text": [
      "no\n"
     ]
    }
   ],
   "source": [
    "if(re.search(\"X$\",name)):\n",
    "    print(\"yes\")\n",
    "else:\n",
    "    print(\"no\")"
   ]
  },
  {
   "cell_type": "code",
   "execution_count": 10,
   "metadata": {},
   "outputs": [
    {
     "name": "stdout",
     "output_type": "stream",
     "text": [
      "  Acex\n"
     ]
    }
   ],
   "source": [
    "print(re.sub(\"l\",\"c\",name))"
   ]
  },
  {
   "cell_type": "code",
   "execution_count": 11,
   "metadata": {},
   "outputs": [
    {
     "name": "stdout",
     "output_type": "stream",
     "text": [
      "['  A', 'ex']\n"
     ]
    }
   ],
   "source": [
    "print(re.split(\"l\",name))"
   ]
  },
  {
   "cell_type": "code",
   "execution_count": 12,
   "metadata": {},
   "outputs": [
    {
     "name": "stdout",
     "output_type": "stream",
     "text": [
      "  ALEX\n"
     ]
    }
   ],
   "source": [
    "print(name.upper())"
   ]
  },
  {
   "cell_type": "code",
   "execution_count": 13,
   "metadata": {},
   "outputs": [],
   "source": [
    "# 4、写一个能匹配大学网站地址的正则表达式（如武汉科技大学www.wust.edu.cn），并使一般网站匹配不上（如www.baidu.com)\n",
    "\n",
    "def isMatch(url):\n",
    "    if re.search(\"^www\\.[a-z]+\\.edu\\.cn$\",url):\n",
    "        print(\"yes\")\n",
    "    else:\n",
    "        print(\"no\")"
   ]
  },
  {
   "cell_type": "code",
   "execution_count": 16,
   "metadata": {},
   "outputs": [
    {
     "name": "stdout",
     "output_type": "stream",
     "text": [
      "yes\n",
      "None\n",
      "no\n",
      "None\n"
     ]
    }
   ],
   "source": [
    "print(isMatch(\"www.wust.edu.cn\"))\n",
    "print(isMatch(\"www.baidu.com\"))"
   ]
  },
  {
   "cell_type": "code",
   "execution_count": null,
   "metadata": {},
   "outputs": [],
   "source": []
  }
 ],
 "metadata": {
  "kernelspec": {
   "display_name": "Python 3.9.12 ('base')",
   "language": "python",
   "name": "python3"
  },
  "language_info": {
   "codemirror_mode": {
    "name": "ipython",
    "version": 3
   },
   "file_extension": ".py",
   "mimetype": "text/x-python",
   "name": "python",
   "nbconvert_exporter": "python",
   "pygments_lexer": "ipython3",
   "version": "3.9.12"
  },
  "orig_nbformat": 4,
  "vscode": {
   "interpreter": {
    "hash": "3bf3a4c08d772500fe80480d234fda284fcda7cd846a744588210699020a3931"
   }
  }
 },
 "nbformat": 4,
 "nbformat_minor": 2
}
